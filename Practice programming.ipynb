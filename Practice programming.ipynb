{
 "cells": [
  {
   "cell_type": "code",
   "execution_count": null,
   "id": "b9ba02fb",
   "metadata": {},
   "outputs": [],
   "source": [
    "n=int(input('enter number '))\n",
    "print('factors  ')\n",
    "i=2\n",
    "while():\n",
    "    if(n%i==0):     "
   ]
  },
  {
   "cell_type": "code",
   "execution_count": 5,
   "id": "1ad62b59",
   "metadata": {},
   "outputs": [
    {
     "ename": "SyntaxError",
     "evalue": "invalid syntax (<ipython-input-5-4fd5e9c5a628>, line 14)",
     "output_type": "error",
     "traceback": [
      "\u001b[1;36m  File \u001b[1;32m\"<ipython-input-5-4fd5e9c5a628>\"\u001b[1;36m, line \u001b[1;32m14\u001b[0m\n\u001b[1;33m    for k in range(len(m[]):\u001b[0m\n\u001b[1;37m                         ^\u001b[0m\n\u001b[1;31mSyntaxError\u001b[0m\u001b[1;31m:\u001b[0m invalid syntax\n"
     ]
    }
   ],
   "source": [
    "import array as ar\n",
    "a1=(ar.array('i',[31,28,31,30,31,30,31,30,31,30,31,30]))\n",
    "l=[]\n",
    "for i in a1:\n",
    "    l.append(i)\n",
    "e=int(input('Enter size '))\n",
    "l2=[]\n",
    "for j in range(e):\n",
    "    i1=int(input())\n",
    "    l2.append(i1)\n",
    "m=(ar.array('i',l2))\n",
    "print(m)\n",
    "print(m[1])\n",
    "#for k in range(len(m[]):\n",
    " #   if m[k]==a1[i]:\n",
    "  #      print(a1[i])"
   ]
  },
  {
   "cell_type": "code",
   "execution_count": 10,
   "id": "f856a51f",
   "metadata": {},
   "outputs": [
    {
     "name": "stdout",
     "output_type": "stream",
     "text": [
      "Enter size 3\n",
      "23\n",
      "45\n",
      "65\n",
      "[23, 45, 65]\n",
      "array('i', [23, 45, 65])\n"
     ]
    }
   ],
   "source": [
    "e=int(input('Enter size '))\n",
    "l2=[]\n",
    "for j in range(e):\n",
    "    i1=int(input())\n",
    "    l2.append(i1)\n",
    "print(l2)\n",
    "\n",
    "import array as arr\n",
    "m=(arr.array('i',l2))\n",
    "print(m)"
   ]
  },
  {
   "cell_type": "code",
   "execution_count": 1,
   "id": "0d2b3fa1",
   "metadata": {},
   "outputs": [
    {
     "name": "stdout",
     "output_type": "stream",
     "text": [
      "[1 2 3 4 5]\n"
     ]
    }
   ],
   "source": [
    "#numpy\n",
    "import numpy \n",
    "a=numpy.array([1,2,3,4,5])\n",
    "print(a)"
   ]
  },
  {
   "cell_type": "code",
   "execution_count": 5,
   "id": "2143435f",
   "metadata": {},
   "outputs": [
    {
     "name": "stdout",
     "output_type": "stream",
     "text": [
      "[2 3 4 5]\n",
      "1.20.1\n",
      "<class 'numpy.ndarray'>\n"
     ]
    }
   ],
   "source": [
    "# numpy with alias\n",
    "\n",
    "import numpy as np\n",
    "arr=numpy.array([2,3,4,5])\n",
    "print(arr)\n",
    "print(np.__version__)\n",
    "print(type(arr)) "
   ]
  },
  {
   "cell_type": "code",
   "execution_count": 9,
   "id": "7fceb6b4",
   "metadata": {},
   "outputs": [
    {
     "name": "stdout",
     "output_type": "stream",
     "text": [
      "[1 2 3 4] [2 3 5] {11, 21, 22} {'av': 1, 's': 2}\n"
     ]
    }
   ],
   "source": [
    "'''we can pass a list, tuple or any array like object into the array(), it converted into an ndarray:'''\n",
    "import numpy as np\n",
    "arr=np.array((1,2,3,4)) #tuple\n",
    "arr1=np.array([2,3,5])  #list\n",
    "arr2=np.array({11,22,21}) #set to numpy is not work\n",
    "arr3=np.array({'av':1, 's':2}) #dictonary also not work\n",
    "print(arr, arr1, arr2, arr3)"
   ]
  },
  {
   "cell_type": "code",
   "execution_count": 10,
   "id": "8e40a306",
   "metadata": {},
   "outputs": [],
   "source": [
    "# type--ndarray\n",
    "# length of dimention-- a.ndim\n",
    "# if u want to increase dimension-- ndmin= 5"
   ]
  },
  {
   "cell_type": "code",
   "execution_count": 24,
   "id": "22b33224",
   "metadata": {},
   "outputs": [
    {
     "name": "stdout",
     "output_type": "stream",
     "text": [
      "0-D : 45 \n",
      "1-D : [1 2 3 4] \n",
      "2-D : [[ 1  2  3  4]\n",
      " [ 3 34  5  8]] \n",
      "2-D2 : [[1 2 3 4]] \n",
      "3-D : [[[1 2 3 4]]]\n"
     ]
    }
   ],
   "source": [
    "import numpy as np\n",
    "a=np.array(45)\n",
    "a1=np.array([1,2,3,4])\n",
    "a2=np.array([[1,2,3,4],[3,34,5,8]])\n",
    "a3=np.array([1,2,3,4],ndmin=2)\n",
    "a4=np.array([1,2,3,4],ndmin=3)\n",
    "print('0-D :',a,'\\n1-D :',a1,'\\n2-D :',a2,'\\n2-D2 :',a3,'\\n3-D :',a4)"
   ]
  },
  {
   "cell_type": "code",
   "execution_count": 18,
   "id": "1da41526",
   "metadata": {},
   "outputs": [
    {
     "name": "stdout",
     "output_type": "stream",
     "text": [
      "Dimension of a4 : 3\n"
     ]
    }
   ],
   "source": [
    "print('Dimension of a4 :',a4.ndim) "
   ]
  },
  {
   "cell_type": "code",
   "execution_count": 48,
   "id": "0369d808",
   "metadata": {},
   "outputs": [
    {
     "name": "stdout",
     "output_type": "stream",
     "text": [
      "in 1-D value of a1[1]  2\n",
      "Access the 4th element on 2nd dim:\n",
      "in 2-D value of a2[1,3]  8\n",
      "Print the last element from the 2nd dim:  8\n",
      "Access the third element of the second array of the first array:  6\n"
     ]
    }
   ],
   "source": [
    "#indexing \n",
    "import numpy as np\n",
    "a1=np.array([1,2,3,4])\n",
    "a2=np.array([[1,2,3,4],[3,34,5,8]])\n",
    "a3=np.array([[[1, 2, 3], [4, 5, 6]], [[7, 8, 9], [10, 11, 12]]])\n",
    "print('in 1-D value of a1[1] ',a1[1])\n",
    "print('Access the 4th element on 2nd dim:')\n",
    "print('in 2-D value of a2[1,3] ',a2[1,3])\n",
    "print('Print the last element from the 2nd dim: ',a2[1,-1])\n",
    "print('Access the third element of the second array of the first array: ',a3[0,1,2])"
   ]
  },
  {
   "cell_type": "code",
   "execution_count": 68,
   "id": "a1bd9131",
   "metadata": {},
   "outputs": [
    {
     "name": "stdout",
     "output_type": "stream",
     "text": [
      "[  1  32 342 232]\n",
      "[342 232  12]\n",
      "[ 32 342 232]\n",
      "reverse  [ 12 232 342  32   1]\n",
      "last 2nd to last 4th  [ 32 342 232]\n",
      "[  1 342  12]\n"
     ]
    }
   ],
   "source": [
    "#slicing\n",
    "import numpy as np\n",
    "arr=np.array([1,32,342,232,12])\n",
    "print(arr[:4]) # without 4th ele \n",
    "print(arr[2:]) # with 2nd ele\n",
    "print(arr[1:4]) # 1st to 3rd\n",
    "print('reverse ',arr[::-1])\n",
    "print('last 2nd to last 4th ',arr[-4:-1])\n",
    "print(arr[::2]) #jumping 1 ele"
   ]
  },
  {
   "cell_type": "code",
   "execution_count": 73,
   "id": "b534f2c7",
   "metadata": {},
   "outputs": [
    {
     "name": "stdout",
     "output_type": "stream",
     "text": [
      "(2, 2, 4)\n",
      "(1, 1, 1, 1, 4)\n"
     ]
    }
   ],
   "source": [
    "#shape of an array is the number of elements in each dimension.\n",
    "import numpy as np\n",
    "arr = np.array([[[1, 2, 3,4], [1, 4, 5, 6]], [[3,7, 8, 9], [0, 10, 11, 12]]])\n",
    "arr1=np.array([8, 2, 3, 4], ndmin=5)\n",
    "print(arr.shape)\n",
    "print(arr1.shape)"
   ]
  },
  {
   "cell_type": "code",
   "execution_count": 58,
   "id": "c76d241b",
   "metadata": {},
   "outputs": [
    {
     "name": "stdout",
     "output_type": "stream",
     "text": [
      "{'brand': 'Ford', 'electric': False, 'year': 1964, 'color': 'white'}\n"
     ]
    }
   ],
   "source": [
    "thisdict = {\n",
    "  \"brand\": \"Ford\",\n",
    "  \"electric\": False,\n",
    "  \"year\": 1964,\n",
    "}\n",
    "#thisdict['electric']=True\n",
    "#thisdict.update({'name':'av'})\n",
    "thisdict['color']='white'\n",
    "print(thisdict)"
   ]
  },
  {
   "cell_type": "code",
   "execution_count": 60,
   "id": "762d6d40",
   "metadata": {},
   "outputs": [
    {
     "name": "stdout",
     "output_type": "stream",
     "text": [
      "Enter number 4\n",
      "24\n"
     ]
    }
   ],
   "source": [
    "def recursion_fun(n):\n",
    "    if n==1:\n",
    "        return n\n",
    "    else:\n",
    "        return n*(recursion_fun(n-1))\n",
    "num=int(input('Enter number '))\n",
    "if num<0:\n",
    "    print('does not exit')\n",
    "elif num==1:\n",
    "          print('fractorial 1')\n",
    "else:\n",
    "          print(recursion_fun(num))\n"
   ]
  },
  {
   "cell_type": "code",
   "execution_count": 70,
   "id": "0158b688",
   "metadata": {},
   "outputs": [
    {
     "name": "stdout",
     "output_type": "stream",
     "text": [
      "15\n"
     ]
    }
   ],
   "source": [
    "def rec_fun(n):\n",
    "    if n>0:\n",
    "        return n+(rec_fun(n-1))\n",
    "    else:\n",
    "        return 0\n",
    "x=rec_fun(5)\n",
    "print(x)\n",
    "        "
   ]
  },
  {
   "cell_type": "code",
   "execution_count": 34,
   "id": "61f36085",
   "metadata": {},
   "outputs": [
    {
     "name": "stdout",
     "output_type": "stream",
     "text": [
      "('ndj', 67)\n"
     ]
    }
   ],
   "source": [
    "class cartoon:\n",
    "    def __init__(self,name,id):\n",
    "        self.name=name\n",
    "        self.id=id\n",
    "    def display(self):\n",
    "        return self.name, self.id\n",
    "v=cartoon('ndj',67)\n",
    "print(v.display())"
   ]
  },
  {
   "cell_type": "code",
   "execution_count": 37,
   "id": "dfd599db",
   "metadata": {},
   "outputs": [
    {
     "name": "stdout",
     "output_type": "stream",
     "text": [
      "Geeks Geeks Geeks Geeks Geeks Geeks \n"
     ]
    }
   ],
   "source": [
    "def print_fun(string, x):\n",
    "    return string * x\n",
    "s=print_fun('Geeks ',x)\n",
    "print(s)"
   ]
  },
  {
   "cell_type": "code",
   "execution_count": 36,
   "id": "a1b10fee",
   "metadata": {},
   "outputs": [
    {
     "name": "stdout",
     "output_type": "stream",
     "text": [
      "soni is wife of abhi\n"
     ]
    }
   ],
   "source": [
    "class love:\n",
    "    wife='soni'\n",
    "    husband='abhi'\n",
    "    def display(self):\n",
    "        print('{} is wife of {}'.format(self.wife,self.husband))\n",
    "v=love()\n",
    "v.display()"
   ]
  },
  {
   "cell_type": "code",
   "execution_count": 38,
   "id": "e17b3981",
   "metadata": {},
   "outputs": [
    {
     "ename": "FileExistsError",
     "evalue": "[Errno 17] File exists: 'abhiraj.txt'",
     "output_type": "error",
     "traceback": [
      "\u001b[1;31m---------------------------------------------------------------------------\u001b[0m",
      "\u001b[1;31mFileExistsError\u001b[0m                           Traceback (most recent call last)",
      "\u001b[1;32m<ipython-input-38-6efea738508a>\u001b[0m in \u001b[0;36m<module>\u001b[1;34m\u001b[0m\n\u001b[1;32m----> 1\u001b[1;33m \u001b[0mfile\u001b[0m\u001b[1;33m=\u001b[0m\u001b[0mopen\u001b[0m\u001b[1;33m(\u001b[0m\u001b[1;34m'abhiraj.txt'\u001b[0m\u001b[1;33m,\u001b[0m\u001b[1;34m'x'\u001b[0m\u001b[1;33m)\u001b[0m\u001b[1;33m\u001b[0m\u001b[1;33m\u001b[0m\u001b[0m\n\u001b[0m\u001b[0;32m      2\u001b[0m \u001b[0mfile\u001b[0m\u001b[1;33m=\u001b[0m\u001b[0mopen\u001b[0m\u001b[1;33m(\u001b[0m\u001b[1;34m'abhiraj.txt'\u001b[0m\u001b[1;33m,\u001b[0m\u001b[1;34m'a'\u001b[0m\u001b[1;33m)\u001b[0m\u001b[1;33m\u001b[0m\u001b[1;33m\u001b[0m\u001b[0m\n\u001b[0;32m      3\u001b[0m \u001b[0mfile\u001b[0m\u001b[1;33m.\u001b[0m\u001b[0mwrite\u001b[0m\u001b[1;33m(\u001b[0m\u001b[1;34m'now the file has more conntent'\u001b[0m\u001b[1;33m)\u001b[0m\u001b[1;33m\u001b[0m\u001b[1;33m\u001b[0m\u001b[0m\n\u001b[0;32m      4\u001b[0m \u001b[0mfile\u001b[0m\u001b[1;33m.\u001b[0m\u001b[0mclose\u001b[0m\u001b[1;33m(\u001b[0m\u001b[1;33m)\u001b[0m\u001b[1;33m\u001b[0m\u001b[1;33m\u001b[0m\u001b[0m\n",
      "\u001b[1;31mFileExistsError\u001b[0m: [Errno 17] File exists: 'abhiraj.txt'"
     ]
    }
   ],
   "source": [
    "file=open('abhiraj.txt','x')\n"
   ]
  },
  {
   "cell_type": "code",
   "execution_count": 39,
   "id": "9f2bfe3f",
   "metadata": {},
   "outputs": [],
   "source": [
    "file=open('abhiraj.txt','a')\n",
    "file.write('now the file has more conntent')\n",
    "file.close()"
   ]
  },
  {
   "cell_type": "code",
   "execution_count": 55,
   "id": "b4c5b7e7",
   "metadata": {},
   "outputs": [
    {
     "name": "stdout",
     "output_type": "stream",
     "text": [
      "now the file has more conntent\n"
     ]
    }
   ],
   "source": [
    "file =open('abhiraj.txt','r')\n",
    "print(file.read())\n",
    "file.close()"
   ]
  },
  {
   "cell_type": "code",
   "execution_count": 42,
   "id": "be5bf0a6",
   "metadata": {},
   "outputs": [],
   "source": [
    "f=open('akash.txt','x')"
   ]
  },
  {
   "cell_type": "code",
   "execution_count": 59,
   "id": "9fb704c5",
   "metadata": {},
   "outputs": [],
   "source": [
    "f=open('akash.txt','w')\n",
    "f.write('hello')\n",
    "f.close()"
   ]
  },
  {
   "cell_type": "code",
   "execution_count": 56,
   "id": "56878cfe",
   "metadata": {},
   "outputs": [
    {
     "name": "stdout",
     "output_type": "stream",
     "text": [
      "file removed\n"
     ]
    }
   ],
   "source": [
    "import os\n",
    "os.remove('abhiraj.txt')\n",
    "print('file removed')"
   ]
  },
  {
   "cell_type": "code",
   "execution_count": 60,
   "id": "edf69cee",
   "metadata": {},
   "outputs": [
    {
     "ename": "AttributeError",
     "evalue": "module 'ntpath' has no attribute 'exits'",
     "output_type": "error",
     "traceback": [
      "\u001b[1;31m---------------------------------------------------------------------------\u001b[0m",
      "\u001b[1;31mAttributeError\u001b[0m                            Traceback (most recent call last)",
      "\u001b[1;32m<ipython-input-60-c901806d9e0d>\u001b[0m in \u001b[0;36m<module>\u001b[1;34m\u001b[0m\n\u001b[0;32m      1\u001b[0m \u001b[1;32mimport\u001b[0m \u001b[0mos\u001b[0m\u001b[1;33m\u001b[0m\u001b[1;33m\u001b[0m\u001b[0m\n\u001b[1;32m----> 2\u001b[1;33m \u001b[1;32mif\u001b[0m \u001b[0mos\u001b[0m\u001b[1;33m.\u001b[0m\u001b[0mpath\u001b[0m\u001b[1;33m.\u001b[0m\u001b[0mexits\u001b[0m\u001b[1;33m(\u001b[0m\u001b[1;34m'akash.txt'\u001b[0m\u001b[1;33m)\u001b[0m\u001b[1;33m:\u001b[0m\u001b[1;33m\u001b[0m\u001b[1;33m\u001b[0m\u001b[0m\n\u001b[0m\u001b[0;32m      3\u001b[0m     \u001b[0mos\u001b[0m\u001b[1;33m.\u001b[0m\u001b[0mremove\u001b[0m\u001b[1;33m(\u001b[0m\u001b[1;34m'akash.txt'\u001b[0m\u001b[1;33m)\u001b[0m\u001b[1;33m\u001b[0m\u001b[1;33m\u001b[0m\u001b[0m\n\u001b[0;32m      4\u001b[0m \u001b[1;32melse\u001b[0m\u001b[1;33m:\u001b[0m\u001b[1;33m\u001b[0m\u001b[1;33m\u001b[0m\u001b[0m\n\u001b[0;32m      5\u001b[0m     \u001b[0mprint\u001b[0m\u001b[1;33m(\u001b[0m\u001b[1;34m'file doesnt exist'\u001b[0m\u001b[1;33m)\u001b[0m\u001b[1;33m\u001b[0m\u001b[1;33m\u001b[0m\u001b[0m\n",
      "\u001b[1;31mAttributeError\u001b[0m: module 'ntpath' has no attribute 'exits'"
     ]
    }
   ],
   "source": [
    "import os\n",
    "if os.path.exits('akash.txt'):\n",
    "    os.remove('akash.txt')\n",
    "else:\n",
    "    print('file doesnt exist')"
   ]
  },
  {
   "cell_type": "code",
   "execution_count": 1,
   "id": "e405dd52",
   "metadata": {},
   "outputs": [
    {
     "data": {
      "image/png": "[encoded data removed]",
      "text/plain": [
       "<Figure size 432x288 with 1 Axes>"
      ]
     },
     "metadata": {
      "needs_background": "light"
     },
     "output_type": "display_data"
    }
   ],
   "source": [
    "# importing matplotlib module\n",
    "from matplotlib import pyplot as plt\n",
    "\n",
    "# x-axis values\n",
    "x = [5, 2, 9, 4, 7]\n",
    "\n",
    "# Y-axis values\n",
    "y = [10, 5, 8, 4, 2]\n",
    "\n",
    "# Function to plot\n",
    "plt.plot(x, y)\n",
    "\n",
    "# function to show the plot\n",
    "plt.show()\n"
   ]
  },
  {
   "cell_type": "code",
   "execution_count": 9,
   "id": "0a85fac2",
   "metadata": {},
   "outputs": [
    {
     "name": "stdout",
     "output_type": "stream",
     "text": [
      "0.5016793961175904\n"
     ]
    }
   ],
   "source": [
    "# numpy with random number\n",
    "# .randint()---integer\n",
    "# .rand()------float(0-1)\n",
    " \n",
    "from numpy import random\n",
    "x=random.rand()\n",
    "print(x)"
   ]
  },
  {
   "cell_type": "code",
   "execution_count": 15,
   "id": "36dbee89",
   "metadata": {},
   "outputs": [
    {
     "name": "stdout",
     "output_type": "stream",
     "text": [
      "[66 63 45]\n"
     ]
    }
   ],
   "source": [
    "# Generate random array\n",
    "# .randint(100, size=5) -- int\n",
    "# .rand(5) -- float  only declair size  2-D --(2,4)\n",
    "\n",
    "from numpy import random\n",
    "x=random.randint(100, size=3)\n",
    "print(x)"
   ]
  },
  {
   "cell_type": "code",
   "execution_count": 4,
   "id": "f8df0f75",
   "metadata": {},
   "outputs": [
    {
     "name": "stdout",
     "output_type": "stream",
     "text": [
      "5\n"
     ]
    }
   ],
   "source": [
    "# Generate random num from array\n",
    "# choice() - generate random val based on an array of val\n",
    "# choice() method also allows you to return an array of values.\n",
    "# size parameter to specify the shape of the array.\n",
    "\n",
    "from numpy import random\n",
    "x=random.choice([3,5,6,9])\n",
    "print(x)"
   ]
  },
  {
   "cell_type": "code",
   "execution_count": 1,
   "id": "cb232a61",
   "metadata": {},
   "outputs": [
    {
     "ename": "SyntaxError",
     "evalue": "cannot assign to function call (<ipython-input-1-f5647b5ab353>, line 2)",
     "output_type": "error",
     "traceback": [
      "\u001b[1;36m  File \u001b[1;32m\"<ipython-input-1-f5647b5ab353>\"\u001b[1;36m, line \u001b[1;32m2\u001b[0m\n\u001b[1;33m    x=random.choice([3,5,6,9]),size=(3,5)\u001b[0m\n\u001b[1;37m      ^\u001b[0m\n\u001b[1;31mSyntaxError\u001b[0m\u001b[1;31m:\u001b[0m cannot assign to function call\n"
     ]
    }
   ],
   "source": [
    "import numpy as random\n",
    "x=random.choice([3,5,6,9]),size=(3,5)\n",
    "print(x)"
   ]
  },
  {
   "cell_type": "code",
   "execution_count": 22,
   "id": "dc57ae80",
   "metadata": {},
   "outputs": [
    {
     "data": {
      "text/html": [
       "<div>\n",
       "<style scoped>\n",
       "    .dataframe tbody tr th:only-of-type {\n",
       "        vertical-align: middle;\n",
       "    }\n",
       "\n",
       "    .dataframe tbody tr th {\n",
       "        vertical-align: top;\n",
       "    }\n",
       "\n",
       "    .dataframe thead th {\n",
       "        text-align: right;\n",
       "    }\n",
       "</style>\n",
       "<table border=\"1\" class=\"dataframe\">\n",
       "  <thead>\n",
       "    <tr style=\"text-align: right;\">\n",
       "      <th></th>\n",
       "      <th>col1</th>\n",
       "      <th>col2</th>\n",
       "    </tr>\n",
       "  </thead>\n",
       "  <tbody>\n",
       "    <tr>\n",
       "      <th>0</th>\n",
       "      <td>1</td>\n",
       "      <td>3</td>\n",
       "    </tr>\n",
       "    <tr>\n",
       "      <th>1</th>\n",
       "      <td>2</td>\n",
       "      <td>4</td>\n",
       "    </tr>\n",
       "  </tbody>\n",
       "</table>\n",
       "</div>"
      ],
      "text/plain": [
       "   col1  col2\n",
       "0     1     3\n",
       "1     2     4"
      ]
     },
     "execution_count": 22,
     "metadata": {},
     "output_type": "execute_result"
    }
   ],
   "source": [
    "# PANADAS\n",
    "#create series from dictionary\n",
    "\n",
    "import pandas as pd\n",
    "d={'col1':[1,2],'col2':[3,4]}\n",
    "df=pd.DataFrame(data=d)\n",
    "df\n"
   ]
  },
  {
   "cell_type": "code",
   "execution_count": 18,
   "id": "ebae9fef",
   "metadata": {},
   "outputs": [
    {
     "data": {
      "text/plain": [
       "col1    int64\n",
       "col2    int64\n",
       "dtype: object"
      ]
     },
     "execution_count": 18,
     "metadata": {},
     "output_type": "execute_result"
    }
   ],
   "source": [
    "df.dtypes"
   ]
  },
  {
   "cell_type": "code",
   "execution_count": 33,
   "id": "7806070c",
   "metadata": {},
   "outputs": [
    {
     "data": {
      "text/html": [
       "<div>\n",
       "<style scoped>\n",
       "    .dataframe tbody tr th:only-of-type {\n",
       "        vertical-align: middle;\n",
       "    }\n",
       "\n",
       "    .dataframe tbody tr th {\n",
       "        vertical-align: top;\n",
       "    }\n",
       "\n",
       "    .dataframe thead th {\n",
       "        text-align: right;\n",
       "    }\n",
       "</style>\n",
       "<table border=\"1\" class=\"dataframe\">\n",
       "  <thead>\n",
       "    <tr style=\"text-align: right;\">\n",
       "      <th></th>\n",
       "      <th>a</th>\n",
       "      <th>b</th>\n",
       "      <th>c</th>\n",
       "      <th>d</th>\n",
       "      <th>e</th>\n",
       "    </tr>\n",
       "  </thead>\n",
       "  <tbody>\n",
       "    <tr>\n",
       "      <th>0</th>\n",
       "      <td>5</td>\n",
       "      <td>0</td>\n",
       "      <td>0</td>\n",
       "      <td>7</td>\n",
       "      <td>7</td>\n",
       "    </tr>\n",
       "    <tr>\n",
       "      <th>1</th>\n",
       "      <td>9</td>\n",
       "      <td>2</td>\n",
       "      <td>3</td>\n",
       "      <td>5</td>\n",
       "      <td>4</td>\n",
       "    </tr>\n",
       "    <tr>\n",
       "      <th>2</th>\n",
       "      <td>4</td>\n",
       "      <td>6</td>\n",
       "      <td>6</td>\n",
       "      <td>6</td>\n",
       "      <td>9</td>\n",
       "    </tr>\n",
       "    <tr>\n",
       "      <th>3</th>\n",
       "      <td>8</td>\n",
       "      <td>7</td>\n",
       "      <td>3</td>\n",
       "      <td>7</td>\n",
       "      <td>9</td>\n",
       "    </tr>\n",
       "    <tr>\n",
       "      <th>4</th>\n",
       "      <td>8</td>\n",
       "      <td>9</td>\n",
       "      <td>3</td>\n",
       "      <td>4</td>\n",
       "      <td>7</td>\n",
       "    </tr>\n",
       "  </tbody>\n",
       "</table>\n",
       "</div>"
      ],
      "text/plain": [
       "   a  b  c  d  e\n",
       "0  5  0  0  7  7\n",
       "1  9  2  3  5  4\n",
       "2  4  6  6  6  9\n",
       "3  8  7  3  7  9\n",
       "4  8  9  3  4  7"
      ]
     },
     "execution_count": 33,
     "metadata": {},
     "output_type": "execute_result"
    }
   ],
   "source": [
    "import pandas as pd\n",
    "df2=pd.DataFrame(np.random.randint(low=0,high=10,size=(5,5)),columns=['a','b','c','d','e'])\n",
    "df2"
   ]
  },
  {
   "cell_type": "code",
   "execution_count": 35,
   "id": "e54f4f5d",
   "metadata": {},
   "outputs": [
    {
     "name": "stdout",
     "output_type": "stream",
     "text": [
      "8\n"
     ]
    }
   ],
   "source": [
    "# Create series from a list\n",
    "\n",
    "import pandas as pd\n",
    "a=[1,8,9]\n",
    "mv=pd.Series(a)\n",
    "\n",
    "mv\n",
    "print(mv[1])   #lables"
   ]
  },
  {
   "cell_type": "code",
   "execution_count": 36,
   "id": "ef2704dc",
   "metadata": {},
   "outputs": [
    {
     "data": {
      "text/plain": [
       "a    1\n",
       "b    5\n",
       "c    7\n",
       "dtype: int64"
      ]
     },
     "execution_count": 36,
     "metadata": {},
     "output_type": "execute_result"
    }
   ],
   "source": [
    "#creating lables\n",
    "\n",
    "import pandas as pd\n",
    "a=[1,5,7]\n",
    "v=pd.Series(a, index=['a','b','c'])\n",
    "v"
   ]
  },
  {
   "cell_type": "code",
   "execution_count": 37,
   "id": "aaddc5fd",
   "metadata": {},
   "outputs": [
    {
     "data": {
      "text/plain": [
       "day1    420\n",
       "day2     39\n",
       "day3    455\n",
       "dtype: int64"
      ]
     },
     "execution_count": 37,
     "metadata": {},
     "output_type": "execute_result"
    }
   ],
   "source": [
    "import pandas as pd\n",
    "c={'day1':420,'day2':39,'day3':455}\n",
    "m=pd.Series(c)\n",
    "m"
   ]
  },
  {
   "cell_type": "code",
   "execution_count": 55,
   "id": "96dff24d",
   "metadata": {},
   "outputs": [
    {
     "data": {
      "text/plain": [
       "day1    [343, 34]\n",
       "day2    [433, 22]\n",
       "dtype: object"
      ]
     },
     "execution_count": 55,
     "metadata": {},
     "output_type": "execute_result"
    }
   ],
   "source": [
    "# create a series using only from day1 and day2\n",
    " \n",
    "import pandas as pd\n",
    "c={'day1':[343,34], 'day2':[433,22], 'day3':[4768,12]}\n",
    "m=pd.Series(c,index = ['day1','day2'])\n",
    "m"
   ]
  },
  {
   "cell_type": "code",
   "execution_count": 53,
   "id": "7b46c932",
   "metadata": {},
   "outputs": [
    {
     "name": "stdout",
     "output_type": "stream",
     "text": [
      "calories    390\n",
      "duration     45\n",
      "Name: 2, dtype: int64\n"
     ]
    }
   ],
   "source": [
    "# locate row-----loc  ---locate specific row\n",
    "\n",
    "import pandas as pd\n",
    "\n",
    "data = {\n",
    "  \"calories\": [420, 380, 390],\n",
    "  \"duration\": [50, 40, 45]\n",
    "}\n",
    "\n",
    "#load data into a DataFrame object:\n",
    "df = pd.DataFrame(data)\n",
    "print(df.loc[2])        # print(df.loc[[1,2]])\n"
   ]
  },
  {
   "cell_type": "code",
   "execution_count": null,
   "id": "11e86d24",
   "metadata": {},
   "outputs": [],
   "source": [
    "#named index\n",
    "import pandas as pd\n",
    "\n",
    "data = {\n",
    "  \"calories\": [420, 380, 390],\n",
    "  \"duration\": [50, 40, 45]\n",
    "}\n",
    "\n",
    "df = pd.DataFrame(data, index = [\"day1\", \"day2\", \"day3\"])\n",
    "\n",
    "print(df)"
   ]
  }
 ],
 "metadata": {
  "kernelspec": {
   "display_name": "Python 3 (ipykernel)",
   "language": "python",
   "name": "python3"
  },
  "language_info": {
   "codemirror_mode": {
    "name": "ipython",
    "version": 3
   },
   "file_extension": ".py",
   "mimetype": "text/x-python",
   "name": "python",
   "nbconvert_exporter": "python",
   "pygments_lexer": "ipython3",
   "version": "3.8.12"
  }
 },
 "nbformat": 4,
 "nbformat_minor": 5
}
