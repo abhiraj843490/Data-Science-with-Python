{
 "cells": [
  {
   "cell_type": "code",
   "execution_count": 1,
   "id": "4289eaf9",
   "metadata": {},
   "outputs": [
    {
     "data": {
      "text/plain": [
       "11"
      ]
     },
     "execution_count": 1,
     "metadata": {},
     "output_type": "execute_result"
    }
   ],
   "source": [
    "#Run: shift + Enter\n",
    "6+5 "
   ]
  },
  {
   "cell_type": "code",
   "execution_count": 1,
   "id": "ebfdd63c",
   "metadata": {},
   "outputs": [
    {
     "data": {
      "text/plain": [
       "24"
      ]
     },
     "execution_count": 1,
     "metadata": {},
     "output_type": "execute_result"
    }
   ],
   "source": [
    "8*3\n"
   ]
  },
  {
   "cell_type": "code",
   "execution_count": 3,
   "id": "44d3345c",
   "metadata": {},
   "outputs": [
    {
     "name": "stdout",
     "output_type": "stream",
     "text": [
      "Geeks$for$Geeks$"
     ]
    }
   ],
   "source": [
    "def print_fun():\n",
    "    print(\"Geeks\",\"for\",\"Geeks\",sep=\"$\",end=\"$\")\n",
    "print_fun()"
   ]
  },
  {
   "cell_type": "code",
   "execution_count": 13,
   "id": "238f98e9",
   "metadata": {},
   "outputs": [
    {
     "name": "stdout",
     "output_type": "stream",
     "text": [
      "Geeks Geeks Geeks \n"
     ]
    }
   ],
   "source": [
    "def print1(string, x):\n",
    "#     string=\"Geeks\"\n",
    "#     x=5\n",
    "    print(string * x)\n",
    "print1('Geeks ',3);\n"
   ]
  },
  {
   "cell_type": "code",
   "execution_count": 1,
   "id": "f86d4beb",
   "metadata": {},
   "outputs": [
    {
     "name": "stdout",
     "output_type": "stream",
     "text": [
      "Enter number:43\n"
     ]
    }
   ],
   "source": [
    "n=int(input('Enter number:'))\n",
    "if n%2==0:\n",
    "    print(\"n is Even\")"
   ]
  },
  {
   "cell_type": "code",
   "execution_count": 2,
   "id": "63321d05",
   "metadata": {},
   "outputs": [
    {
     "ename": "SyntaxError",
     "evalue": "invalid syntax (<ipython-input-2-9331893322c3>, line 2)",
     "output_type": "error",
     "traceback": [
      "\u001b[1;36m  File \u001b[1;32m\"<ipython-input-2-9331893322c3>\"\u001b[1;36m, line \u001b[1;32m2\u001b[0m\n\u001b[1;33m    print(::-1)\u001b[0m\n\u001b[1;37m          ^\u001b[0m\n\u001b[1;31mSyntaxError\u001b[0m\u001b[1;31m:\u001b[0m invalid syntax\n"
     ]
    }
   ],
   "source": [
    "n=int(input('Enter number:'))\n",
    "print(::-1)"
   ]
  },
  {
   "cell_type": "code",
   "execution_count": 3,
   "id": "9883a62d",
   "metadata": {},
   "outputs": [
    {
     "name": "stdout",
     "output_type": "stream",
     "text": [
      "Enter number:234567\n",
      "765432\n"
     ]
    }
   ],
   "source": [
    "n=str(input('Enter number:'))\n",
    "print(n[::-1])    #reverse the string"
   ]
  },
  {
   "cell_type": "code",
   "execution_count": 4,
   "id": "a47844f7",
   "metadata": {},
   "outputs": [
    {
     "name": "stdout",
     "output_type": "stream",
     "text": [
      "Enter Number 34\n",
      "Number is even\n"
     ]
    }
   ],
   "source": [
    "#odd or even \n",
    "a=int(input('Enter Number '))\n",
    "if a%2==0:\n",
    "    print('Number is even')\n",
    "else:\n",
    "    print('Number is odd')"
   ]
  },
  {
   "cell_type": "code",
   "execution_count": 5,
   "id": "a1139e11",
   "metadata": {},
   "outputs": [
    {
     "name": "stdout",
     "output_type": "stream",
     "text": [
      "Enter a? 32\n",
      "Enter b? 321\n",
      "Enter c? 1346\n",
      "c is largest\n"
     ]
    }
   ],
   "source": [
    "a = int(input(\"Enter a? \"))  \n",
    "b = int(input(\"Enter b? \"))  \n",
    "c = int(input(\"Enter c? \"))  \n",
    "if a>b and a>c:  \n",
    "    print(\"a is largest\") \n",
    "if b>a and b>c:  \n",
    "    print(\"b is largest\")  \n",
    "if c>a and c>b:  \n",
    "    print(\"c is largest\")  "
   ]
  },
  {
   "cell_type": "code",
   "execution_count": 6,
   "id": "6dc0c308",
   "metadata": {},
   "outputs": [
    {
     "name": "stdout",
     "output_type": "stream",
     "text": [
      "Enter your age: 345\n",
      "congratulation! you are eligible for voting\n"
     ]
    }
   ],
   "source": [
    "age=int(input(\"Enter your age: \"))\n",
    "if age>=18:\n",
    "    print('congratulation! you are eligible for voting')\n",
    "else:\n",
    "        print('sorry! you are not eligible for voting')"
   ]
  },
  {
   "cell_type": "code",
   "execution_count": 5,
   "id": "398f0022",
   "metadata": {},
   "outputs": [
    {
     "name": "stdout",
     "output_type": "stream",
     "text": [
      "Enter number 2005\n",
      "number is divisible by 5\n"
     ]
    }
   ],
   "source": [
    "#elif\n",
    "a=int(input('Enter number '))\n",
    "if a%2==0:\n",
    "    print('number is divisible by 2')\n",
    "elif a%3==0:\n",
    "    print('number is divisible by 3')\n",
    "elif a%5==0:\n",
    "    print('number is divisible by 5')\n",
    "else:\n",
    "    print('number is nither divisible by 2 and 3 nor 5')"
   ]
  },
  {
   "cell_type": "code",
   "execution_count": null,
   "id": "5d588908",
   "metadata": {},
   "outputs": [],
   "source": [
    "#for loop\n",
    "#for i in str:"
   ]
  },
  {
   "cell_type": "code",
   "execution_count": 9,
   "id": "2e5444a6",
   "metadata": {},
   "outputs": [
    {
     "name": "stdout",
     "output_type": "stream",
     "text": [
      "Enter the number 7\n",
      "7 * 1 = 7\n",
      "7 * 2 = 14\n",
      "7 * 3 = 21\n",
      "7 * 4 = 28\n",
      "7 * 5 = 35\n",
      "7 * 6 = 42\n",
      "7 * 7 = 49\n",
      "7 * 8 = 56\n",
      "7 * 9 = 63\n",
      "7 * 10 = 70\n"
     ]
    }
   ],
   "source": [
    "#print number table using range()method\n",
    "n = int(input(\"Enter the number \"))  \n",
    "for i in range(1,11):\n",
    "    print(n, \"*\", i, \"=\", n*i)\n",
    "    "
   ]
  },
  {
   "cell_type": "code",
   "execution_count": null,
   "id": "6386e2c3",
   "metadata": {},
   "outputs": [],
   "source": [
    "string=str(input(\"Enter string: \"))\n",
    "for i in string:\n",
    "    print(i)"
   ]
  },
  {
   "cell_type": "code",
   "execution_count": 12,
   "id": "c0b7bc17",
   "metadata": {},
   "outputs": [
    {
     "name": "stdout",
     "output_type": "stream",
     "text": [
      "A\n",
      "b\n",
      "h\n",
      "i\n",
      "r\n",
      "a\n",
      "j\n"
     ]
    }
   ],
   "source": [
    "s='Abhiraj'\n",
    "for i in s:            #The for loop actually creates an iterator object and executes  \n",
    "    print(i)           #the next() method for each loop."
   ]
  },
  {
   "cell_type": "code",
   "execution_count": 1,
   "id": "e0fa9397",
   "metadata": {},
   "outputs": [
    {
     "name": "stdout",
     "output_type": "stream",
     "text": [
      "0\n",
      "1\n",
      "2\n",
      "3\n",
      "4\n",
      "5\n",
      "6\n",
      "7\n",
      "8\n",
      "9\n",
      "10\n"
     ]
    }
   ],
   "source": [
    "for i in range(11):\n",
    "    print(i)"
   ]
  },
  {
   "cell_type": "code",
   "execution_count": 2,
   "id": "15a26572",
   "metadata": {},
   "outputs": [
    {
     "name": "stdout",
     "output_type": "stream",
     "text": [
      "0 1 2 3 4 5 6 7 8 9 10 "
     ]
    }
   ],
   "source": [
    "for i in range(11):\n",
    "    print(i,end=' ')"
   ]
  },
  {
   "cell_type": "code",
   "execution_count": 35,
   "id": "9b7aec9b",
   "metadata": {},
   "outputs": [
    {
     "name": "stdout",
     "output_type": "stream",
     "text": [
      "1\n",
      "3\n",
      "5\n",
      "7\n",
      "9\n"
     ]
    }
   ],
   "source": [
    "#using step size\n",
    "for i in range(1,11,2):\n",
    "    print(i)"
   ]
  },
  {
   "cell_type": "code",
   "execution_count": 38,
   "id": "b009a0c4",
   "metadata": {},
   "outputs": [
    {
     "name": "stdout",
     "output_type": "stream",
     "text": [
      "3\n",
      "6\n",
      "9\n",
      "12\n",
      "15\n",
      "18\n",
      "21\n",
      "24\n",
      "27\n",
      "30\n"
     ]
    }
   ],
   "source": [
    "for i in range(3,33,3):#3,33,3\n",
    "    print(i)"
   ]
  },
  {
   "cell_type": "code",
   "execution_count": 2,
   "id": "8d02d433",
   "metadata": {},
   "outputs": [
    {
     "name": "stdout",
     "output_type": "stream",
     "text": [
      "1\n",
      "22\n",
      "333\n",
      "4444\n"
     ]
    }
   ],
   "source": [
    "for i in range(1,5):\n",
    "    for j in range(i):\n",
    "        print(i,end='')\n",
    "    print()"
   ]
  },
  {
   "cell_type": "code",
   "execution_count": 7,
   "id": "853847cd",
   "metadata": {},
   "outputs": [
    {
     "name": "stdout",
     "output_type": "stream",
     "text": [
      "A 1\n",
      "A 2\n",
      "A 3\n",
      "B 1\n",
      "B 2\n",
      "B 3\n",
      "C 1\n",
      "C 2\n",
      "C 3\n"
     ]
    }
   ],
   "source": [
    "a=['A','B','C']\n",
    "f=['1','2','3']\n",
    "for i in a:\n",
    "    for j in f:\n",
    "        print(i,j)"
   ]
  },
  {
   "cell_type": "code",
   "execution_count": null,
   "id": "7df19d36",
   "metadata": {},
   "outputs": [],
   "source": []
  },
  {
   "cell_type": "code",
   "execution_count": 9,
   "id": "1dab6b8f",
   "metadata": {},
   "outputs": [
    {
     "name": "stdout",
     "output_type": "stream",
     "text": [
      "abhiraj\n"
     ]
    }
   ],
   "source": [
    "s='abhi'\n",
    "s1='raj'\n",
    "print(s+s1)"
   ]
  },
  {
   "cell_type": "code",
   "execution_count": 1,
   "id": "5ea0557e",
   "metadata": {},
   "outputs": [
    {
     "ename": "NameError",
     "evalue": "name 's' is not defined",
     "output_type": "error",
     "traceback": [
      "\u001b[1;31m---------------------------------------------------------------------------\u001b[0m",
      "\u001b[1;31mNameError\u001b[0m                                 Traceback (most recent call last)",
      "\u001b[1;32m<ipython-input-1-aa7a579b7d54>\u001b[0m in \u001b[0;36m<module>\u001b[1;34m\u001b[0m\n\u001b[1;32m----> 1\u001b[1;33m \u001b[0mprint\u001b[0m\u001b[1;33m(\u001b[0m\u001b[0ms\u001b[0m\u001b[1;33m%\u001b[0m\u001b[1;34m'av'\u001b[0m\u001b[1;33m)\u001b[0m\u001b[1;33m\u001b[0m\u001b[1;33m\u001b[0m\u001b[0m\n\u001b[0m",
      "\u001b[1;31mNameError\u001b[0m: name 's' is not defined"
     ]
    }
   ],
   "source": [
    "print(s%'av')"
   ]
  },
  {
   "cell_type": "code",
   "execution_count": 2,
   "id": "e41df384",
   "metadata": {},
   "outputs": [
    {
     "name": "stdout",
     "output_type": "stream",
     "text": [
      "My name is abhi\n"
     ]
    }
   ],
   "source": [
    "#functions as default function\n",
    "def mf():\n",
    "    print('My name is abhi')\n",
    "mf()"
   ]
  },
  {
   "cell_type": "code",
   "execution_count": 2,
   "id": "51daef09",
   "metadata": {},
   "outputs": [
    {
     "name": "stdout",
     "output_type": "stream",
     "text": [
      "My name is Abhi\n",
      "My name is Av\n"
     ]
    }
   ],
   "source": [
    "def mf(fname):\n",
    "    print('My name is ' + fname)\n",
    "mf('Abhi')\n",
    "mf('Av')"
   ]
  },
  {
   "cell_type": "code",
   "execution_count": 1,
   "id": "043b1020",
   "metadata": {},
   "outputs": [
    {
     "name": "stdout",
     "output_type": "stream",
     "text": [
      "My name is Abhiraj Verma\n"
     ]
    }
   ],
   "source": [
    "def mf(fname,lname):\n",
    "    print(\"My name is \" + fname + \" \" + lname)\n",
    "mf(\"Abhiraj\",\"Verma\")"
   ]
  },
  {
   "cell_type": "code",
   "execution_count": 3,
   "id": "25f79873",
   "metadata": {},
   "outputs": [
    {
     "name": "stdout",
     "output_type": "stream",
     "text": [
      "the youngest kids is anurag\n"
     ]
    }
   ],
   "source": [
    "def mf(*f):\n",
    "    print(\"the youngest kids is \" + f[3])\n",
    "mf(\"akash\",\"abhi\",\"av\",\"anurag\")"
   ]
  },
  {
   "cell_type": "code",
   "execution_count": 7,
   "id": "3988f80d",
   "metadata": {},
   "outputs": [
    {
     "name": "stdout",
     "output_type": "stream",
     "text": [
      "j\n",
      "a\n",
      "v\n",
      "a\n",
      "t\n",
      "p\n",
      "o\n",
      "i\n",
      "n\n",
      "t\n"
     ]
    }
   ],
   "source": [
    "i=0\n",
    "s='javatpoint'\n",
    "while i<len(s):\n",
    "    print(s[i])\n",
    "    i+=1"
   ]
  },
  {
   "cell_type": "code",
   "execution_count": 14,
   "id": "8e593da5",
   "metadata": {},
   "outputs": [
    {
     "name": "stdout",
     "output_type": "stream",
     "text": [
      "j\n",
      "v\n",
      "p\n",
      "o\n",
      "i\n",
      "n\n"
     ]
    }
   ],
   "source": [
    "#print all letter except 'a' and 't'\n",
    "i=0\n",
    "s='javatpoint'\n",
    "while i<len(s):\n",
    "    if s[i]=='a' or s[i]=='t':\n",
    "        i+=1\n",
    "        continue\n",
    "    print(s[i])\n",
    "    i+=1"
   ]
  },
  {
   "cell_type": "code",
   "execution_count": 1,
   "id": "76e5231e",
   "metadata": {},
   "outputs": [
    {
     "name": "stdout",
     "output_type": "stream",
     "text": [
      "b\n",
      "h\n",
      "i\n",
      "r\n"
     ]
    }
   ],
   "source": [
    "#print all letter except 'a'and 'j'\n",
    "i=1\n",
    "a1='abhiraj'\n",
    "while i<len(a1):\n",
    "    if a1[i]=='a' or a1[i]=='j':\n",
    "        i+=1\n",
    "        continue\n",
    "    print(a1[i])\n",
    "    i+=1"
   ]
  },
  {
   "cell_type": "code",
   "execution_count": 1,
   "id": "ec02045c",
   "metadata": {},
   "outputs": [],
   "source": [
    "b=[\"cricket\",11,200.25,False]\n"
   ]
  },
  {
   "cell_type": "code",
   "execution_count": 2,
   "id": "c729098d",
   "metadata": {},
   "outputs": [
    {
     "data": {
      "text/plain": [
       "False"
      ]
     },
     "execution_count": 2,
     "metadata": {},
     "output_type": "execute_result"
    }
   ],
   "source": [
    "b[-1]"
   ]
  },
  {
   "cell_type": "code",
   "execution_count": 3,
   "id": "6a18ffa8",
   "metadata": {},
   "outputs": [
    {
     "data": {
      "text/plain": [
       "bool"
      ]
     },
     "execution_count": 3,
     "metadata": {},
     "output_type": "execute_result"
    }
   ],
   "source": [
    "type(b[3])"
   ]
  },
  {
   "cell_type": "code",
   "execution_count": 4,
   "id": "61cc69c9",
   "metadata": {},
   "outputs": [
    {
     "data": {
      "text/plain": [
       "False"
      ]
     },
     "execution_count": 4,
     "metadata": {},
     "output_type": "execute_result"
    }
   ],
   "source": [
    "b[-1]"
   ]
  },
  {
   "cell_type": "code",
   "execution_count": 9,
   "id": "bf9929c5",
   "metadata": {},
   "outputs": [],
   "source": [
    "a=list(('a',7,True))"
   ]
  },
  {
   "cell_type": "code",
   "execution_count": 1,
   "id": "4c7247ac",
   "metadata": {},
   "outputs": [],
   "source": [
    "s=['cricket',11,'football',11,'badminton',2]"
   ]
  },
  {
   "cell_type": "code",
   "execution_count": 2,
   "id": "0aa14ad7",
   "metadata": {},
   "outputs": [],
   "source": [
    "s[0]='Rugby'"
   ]
  },
  {
   "cell_type": "code",
   "execution_count": 3,
   "id": "cdefcf0b",
   "metadata": {},
   "outputs": [
    {
     "data": {
      "text/plain": [
       "['Rugby', 11, 'football', 11, 'badminton', 2]"
      ]
     },
     "execution_count": 3,
     "metadata": {},
     "output_type": "execute_result"
    }
   ],
   "source": [
    "s"
   ]
  },
  {
   "cell_type": "code",
   "execution_count": 4,
   "id": "450e5436",
   "metadata": {},
   "outputs": [
    {
     "data": {
      "text/plain": [
       "['football', 11]"
      ]
     },
     "execution_count": 4,
     "metadata": {},
     "output_type": "execute_result"
    }
   ],
   "source": [
    "s[2:4]"
   ]
  },
  {
   "cell_type": "code",
   "execution_count": 5,
   "id": "e4a6a02f",
   "metadata": {},
   "outputs": [],
   "source": [
    "s[2:4]=['ludo',4] #replace value"
   ]
  },
  {
   "cell_type": "code",
   "execution_count": 6,
   "id": "9a70fd7c",
   "metadata": {},
   "outputs": [
    {
     "data": {
      "text/plain": [
       "['Rugby', 11, 'ludo', 4, 'badminton', 2]"
      ]
     },
     "execution_count": 6,
     "metadata": {},
     "output_type": "execute_result"
    }
   ],
   "source": [
    "s"
   ]
  },
  {
   "cell_type": "code",
   "execution_count": 7,
   "id": "cb4d8017",
   "metadata": {},
   "outputs": [],
   "source": [
    "#insert wrt replace\n",
    "s.insert(2,'Football')\n"
   ]
  },
  {
   "cell_type": "code",
   "execution_count": 8,
   "id": "214ebbeb",
   "metadata": {},
   "outputs": [
    {
     "data": {
      "text/plain": [
       "['Rugby', 11, 'Football', 'ludo', 4, 'badminton', 2]"
      ]
     },
     "execution_count": 8,
     "metadata": {},
     "output_type": "execute_result"
    }
   ],
   "source": [
    "s"
   ]
  },
  {
   "cell_type": "code",
   "execution_count": 66,
   "id": "8fe2ba97",
   "metadata": {},
   "outputs": [],
   "source": [
    "#extend() used to append another list to curent\n",
    "a1=[1,2]\n"
   ]
  },
  {
   "cell_type": "code",
   "execution_count": 67,
   "id": "9102156a",
   "metadata": {},
   "outputs": [],
   "source": [
    "a1.append(4)"
   ]
  },
  {
   "cell_type": "code",
   "execution_count": 68,
   "id": "37280f5e",
   "metadata": {},
   "outputs": [
    {
     "data": {
      "text/plain": [
       "[1, 2, 4]"
      ]
     },
     "execution_count": 68,
     "metadata": {},
     "output_type": "execute_result"
    }
   ],
   "source": [
    "a1"
   ]
  },
  {
   "cell_type": "code",
   "execution_count": 51,
   "id": "3e44810b",
   "metadata": {},
   "outputs": [
    {
     "data": {
      "text/plain": [
       "['A', 'B', 'C', [...]]"
      ]
     },
     "execution_count": 51,
     "metadata": {},
     "output_type": "execute_result"
    }
   ],
   "source": [
    "a1"
   ]
  },
  {
   "cell_type": "code",
   "execution_count": 2,
   "id": "46f9b2a8",
   "metadata": {},
   "outputs": [],
   "source": [
    "a=[]"
   ]
  },
  {
   "cell_type": "code",
   "execution_count": 3,
   "id": "d1da14fa",
   "metadata": {},
   "outputs": [],
   "source": [
    "a.append('Abhi')"
   ]
  },
  {
   "cell_type": "code",
   "execution_count": null,
   "id": "46f7b893",
   "metadata": {},
   "outputs": [],
   "source": [
    "import matplotlib.pyplot as plt\n",
    "import numpy as np\n",
    "l=[]\n",
    "a= int(input('value '))\n",
    "for i in range(a):\n",
    "    s=int(input(np.array([i])))\n",
    "plt.plot(s)\n",
    "plt.show()"
   ]
  },
  {
   "cell_type": "code",
   "execution_count": null,
   "id": "7dcb3079",
   "metadata": {},
   "outputs": [],
   "source": [
    "## extend\n",
    "b=['A','B','C']\n",
    "a.extend(b)"
   ]
  },
  {
   "cell_type": "code",
   "execution_count": 6,
   "id": "3fbd969a",
   "metadata": {},
   "outputs": [
    {
     "data": {
      "text/plain": [
       "['Abhi', 'A', 'B', 'C']"
      ]
     },
     "execution_count": 6,
     "metadata": {},
     "output_type": "execute_result"
    }
   ],
   "source": [
    "a"
   ]
  },
  {
   "cell_type": "code",
   "execution_count": 7,
   "id": "3c21c2e3",
   "metadata": {},
   "outputs": [
    {
     "data": {
      "text/plain": [
       "'C'"
      ]
     },
     "execution_count": 7,
     "metadata": {},
     "output_type": "execute_result"
    }
   ],
   "source": [
    "a.pop() #removing of last item"
   ]
  },
  {
   "cell_type": "code",
   "execution_count": 8,
   "id": "c74dba7e",
   "metadata": {},
   "outputs": [
    {
     "data": {
      "text/plain": [
       "'B'"
      ]
     },
     "execution_count": 8,
     "metadata": {},
     "output_type": "execute_result"
    }
   ],
   "source": [
    "a.pop(2)"
   ]
  },
  {
   "cell_type": "code",
   "execution_count": 9,
   "id": "de066621",
   "metadata": {},
   "outputs": [
    {
     "data": {
      "text/plain": [
       "['Abhi', 'A']"
      ]
     },
     "execution_count": 9,
     "metadata": {},
     "output_type": "execute_result"
    }
   ],
   "source": [
    "a"
   ]
  },
  {
   "cell_type": "code",
   "execution_count": 10,
   "id": "8768366d",
   "metadata": {},
   "outputs": [],
   "source": [
    "del a[1]"
   ]
  },
  {
   "cell_type": "code",
   "execution_count": 11,
   "id": "74fbb4df",
   "metadata": {},
   "outputs": [
    {
     "data": {
      "text/plain": [
       "['Abhi']"
      ]
     },
     "execution_count": 11,
     "metadata": {},
     "output_type": "execute_result"
    }
   ],
   "source": [
    "a"
   ]
  },
  {
   "cell_type": "code",
   "execution_count": 12,
   "id": "1c33212b",
   "metadata": {},
   "outputs": [],
   "source": [
    "a.clear() #clear the list"
   ]
  },
  {
   "cell_type": "code",
   "execution_count": 13,
   "id": "2d990e98",
   "metadata": {},
   "outputs": [
    {
     "data": {
      "text/plain": [
       "[]"
      ]
     },
     "execution_count": 13,
     "metadata": {},
     "output_type": "execute_result"
    }
   ],
   "source": [
    "a"
   ]
  },
  {
   "cell_type": "code",
   "execution_count": 14,
   "id": "4a3bd236",
   "metadata": {},
   "outputs": [],
   "source": [
    "del a # delete a list"
   ]
  },
  {
   "cell_type": "code",
   "execution_count": 43,
   "id": "e5e0f3ff",
   "metadata": {},
   "outputs": [
    {
     "ename": "NameError",
     "evalue": "name 'a' is not defined",
     "output_type": "error",
     "traceback": [
      "\u001b[1;31m---------------------------------------------------------------------------\u001b[0m",
      "\u001b[1;31mNameError\u001b[0m                                 Traceback (most recent call last)",
      "\u001b[1;32m<ipython-input-43-3f786850e387>\u001b[0m in \u001b[0;36m<module>\u001b[1;34m\u001b[0m\n\u001b[1;32m----> 1\u001b[1;33m \u001b[0ma\u001b[0m\u001b[1;33m\u001b[0m\u001b[1;33m\u001b[0m\u001b[0m\n\u001b[0m",
      "\u001b[1;31mNameError\u001b[0m: name 'a' is not defined"
     ]
    }
   ],
   "source": [
    "a"
   ]
  },
  {
   "cell_type": "code",
   "execution_count": 15,
   "id": "591fbcff",
   "metadata": {},
   "outputs": [
    {
     "data": {
      "text/plain": [
       "['A', 'B', 'C']"
      ]
     },
     "execution_count": 15,
     "metadata": {},
     "output_type": "execute_result"
    }
   ],
   "source": [
    "b"
   ]
  },
  {
   "cell_type": "code",
   "execution_count": 16,
   "id": "01635b34",
   "metadata": {},
   "outputs": [],
   "source": [
    "#copy the list\n",
    "a=b"
   ]
  },
  {
   "cell_type": "code",
   "execution_count": 17,
   "id": "c5a380fd",
   "metadata": {},
   "outputs": [
    {
     "data": {
      "text/plain": [
       "['A', 'B', 'C']"
      ]
     },
     "execution_count": 17,
     "metadata": {},
     "output_type": "execute_result"
    }
   ],
   "source": [
    "a"
   ]
  },
  {
   "cell_type": "code",
   "execution_count": 18,
   "id": "eb4b7f66",
   "metadata": {},
   "outputs": [
    {
     "name": "stdout",
     "output_type": "stream",
     "text": [
      "Enter items: M\n"
     ]
    }
   ],
   "source": [
    "c=input('Enter items: ')"
   ]
  },
  {
   "cell_type": "code",
   "execution_count": 19,
   "id": "00c9094a",
   "metadata": {},
   "outputs": [
    {
     "data": {
      "text/plain": [
       "'M'"
      ]
     },
     "execution_count": 19,
     "metadata": {},
     "output_type": "execute_result"
    }
   ],
   "source": [
    "c"
   ]
  },
  {
   "cell_type": "code",
   "execution_count": 20,
   "id": "ba4c4048",
   "metadata": {},
   "outputs": [],
   "source": [
    "a.append(c)"
   ]
  },
  {
   "cell_type": "code",
   "execution_count": 21,
   "id": "476044b0",
   "metadata": {},
   "outputs": [
    {
     "data": {
      "text/plain": [
       "['A', 'B', 'C', 'M']"
      ]
     },
     "execution_count": 21,
     "metadata": {},
     "output_type": "execute_result"
    }
   ],
   "source": [
    "a"
   ]
  },
  {
   "cell_type": "code",
   "execution_count": 22,
   "id": "7f2c3688",
   "metadata": {},
   "outputs": [
    {
     "name": "stdout",
     "output_type": "stream",
     "text": [
      "Enter item which you want to remove M\n"
     ]
    }
   ],
   "source": [
    "z=input('Enter item which you want to remove ')"
   ]
  },
  {
   "cell_type": "code",
   "execution_count": 23,
   "id": "ba3c0fae",
   "metadata": {},
   "outputs": [
    {
     "data": {
      "text/plain": [
       "'M'"
      ]
     },
     "execution_count": 23,
     "metadata": {},
     "output_type": "execute_result"
    }
   ],
   "source": [
    "z"
   ]
  },
  {
   "cell_type": "code",
   "execution_count": 24,
   "id": "009ebc3b",
   "metadata": {},
   "outputs": [],
   "source": [
    "a.remove(z)"
   ]
  },
  {
   "cell_type": "code",
   "execution_count": 25,
   "id": "6f4d9fc1",
   "metadata": {},
   "outputs": [
    {
     "data": {
      "text/plain": [
       "['A', 'B', 'C']"
      ]
     },
     "execution_count": 25,
     "metadata": {},
     "output_type": "execute_result"
    }
   ],
   "source": [
    "a"
   ]
  },
  {
   "cell_type": "code",
   "execution_count": 3,
   "id": "1af1a219",
   "metadata": {},
   "outputs": [
    {
     "name": "stdout",
     "output_type": "stream",
     "text": [
      "printing string inside function : Hi I am there Hows you \n",
      "printing the string outside function : Hi I am there\n"
     ]
    }
   ],
   "source": [
    "#function\n",
    "def change_string (str):    \n",
    "    str = str + \" Hows you \"  \n",
    "    print(\"printing string inside function :\",str)  \n",
    "    \n",
    "string1 = \"Hi I am there\"    \n",
    "    \n",
    "#calling the function    \n",
    "change_string(string1)    \n",
    "    \n",
    "print(\"printing the string outside function :\",string1)    \n",
    "    "
   ]
  },
  {
   "cell_type": "code",
   "execution_count": 4,
   "id": "2928ea89",
   "metadata": {},
   "outputs": [
    {
     "name": "stdout",
     "output_type": "stream",
     "text": [
      "Value of S.I.  4.0\n"
     ]
    }
   ],
   "source": [
    "#Sample interest\n",
    "def sample_in(p,r,t):\n",
    "    return (p*r*t)/100\n",
    "# p=float(input('Enter val of p '))\n",
    "# r=float(input('Enter val of r '))\n",
    "# t=float(input('Enter val of time '))\n",
    "print('Value of S.I. ',sample_in(100,2,2))\n"
   ]
  },
  {
   "cell_type": "code",
   "execution_count": 7,
   "id": "13e1e173",
   "metadata": {},
   "outputs": [
    {
     "name": "stdout",
     "output_type": "stream",
     "text": [
      "My name is  Abhiraj age is  20\n",
      "My name is  Abhiraj age is  21\n"
     ]
    }
   ],
   "source": [
    "def me(name,age=20):\n",
    "    print('My name is ', name, 'age is ', age)\n",
    "me('Abhiraj')       # if miss anything in calling function as declaration then it will print default val\n",
    "me('Abhiraj', 21)"
   ]
  },
  {
   "cell_type": "code",
   "execution_count": 8,
   "id": "ea652137",
   "metadata": {},
   "outputs": [
    {
     "name": "stdout",
     "output_type": "stream",
     "text": [
      "absolute val of -20 is  20.5\n"
     ]
    }
   ],
   "source": [
    "#abs() absolute val returns\n",
    "integer = -20.5\n",
    "print('absolute val of -20 is ', abs(integer))\n",
    "# all() function returns true"
   ]
  },
  {
   "cell_type": "code",
   "execution_count": 16,
   "id": "77a0e77d",
   "metadata": {},
   "outputs": [
    {
     "name": "stdout",
     "output_type": "stream",
     "text": [
      "<function <lambda> at 0x0000012C5BA785E0>\n",
      "sum=  34\n"
     ]
    }
   ],
   "source": [
    "#lambda()is anonymous fun that is defined without a name\n",
    "x=lambda a:a+10\n",
    "print(x)\n",
    "print('sum= ',x(24))"
   ]
  },
  {
   "cell_type": "code",
   "execution_count": 10,
   "id": "cfc799a8",
   "metadata": {},
   "outputs": [
    {
     "name": "stdout",
     "output_type": "stream",
     "text": [
      "5\n"
     ]
    }
   ],
   "source": [
    "#class / object\n",
    "class myClass:         #class name is not case sensitive\n",
    "    x=5\n",
    "p1=myClass()\n",
    "print(p1.x)"
   ]
  },
  {
   "cell_type": "code",
   "execution_count": 11,
   "id": "1d9cd338",
   "metadata": {},
   "outputs": [
    {
     "name": "stdout",
     "output_type": "stream",
     "text": [
      "<class '__main__.mycals'>\n"
     ]
    }
   ],
   "source": [
    "class mycals:\n",
    "    x=0\n",
    "print(mycals)"
   ]
  },
  {
   "cell_type": "code",
   "execution_count": 1,
   "id": "6f558f21",
   "metadata": {},
   "outputs": [
    {
     "name": "stdout",
     "output_type": "stream",
     "text": [
      "Hello my name is John\n"
     ]
    }
   ],
   "source": [
    "class Person:\n",
    "  def __init__(self, name, age):\n",
    "    self.name = name\n",
    "    self.age = age                                 #__init__() function call itself automatically  \n",
    "                                                   # not need to call by creating an object\n",
    "  def myfunc(self):\n",
    "    print(\"Hello my name is \" + self.name)\n",
    "\n",
    "p1 = Person(\"John\", 36)\n",
    "p1.myfunc()"
   ]
  },
  {
   "cell_type": "code",
   "execution_count": 54,
   "id": "d39383ca",
   "metadata": {},
   "outputs": [
    {
     "name": "stdout",
     "output_type": "stream",
     "text": [
      "hello my name is jhon\n"
     ]
    }
   ],
   "source": [
    "class Person:\n",
    "  def __init__(self, name, age):\n",
    "    self.name = name\n",
    "    self.age = age\n",
    "    \n",
    "  def myfunc(self):\n",
    "    print(\"hello my name is \" + self.name)\n",
    "  \n",
    "    \n",
    "p1 = Person(\"jhon\", 20)\n",
    "p1.myfunc()"
   ]
  },
  {
   "cell_type": "code",
   "execution_count": 49,
   "id": "52971d17",
   "metadata": {},
   "outputs": [
    {
     "name": "stdout",
     "output_type": "stream",
     "text": [
      "avbf\n",
      "20\n"
     ]
    }
   ],
   "source": [
    "class av:\n",
    "  def __init__(self,name,age):\n",
    "        self.name=name\n",
    "        self.age=age\n",
    "p1=av(\"avbf\",20)\n",
    "\n",
    "print(p1.name)\n",
    "print(p1.age)"
   ]
  },
  {
   "cell_type": "code",
   "execution_count": null,
   "id": "4c5c4457",
   "metadata": {},
   "outputs": [],
   "source": []
  },
  {
   "cell_type": "code",
   "execution_count": null,
   "id": "0350c217",
   "metadata": {},
   "outputs": [],
   "source": [
    "n=int(input(\"enter a no.\"))\n",
    "while 1:\n",
    " i=1\n",
    " while i<=10:\n",
    "  r=i*n\n",
    "  print(n,\"x\",i,\"=\",r)\n",
    "  i+=1\n",
    " choice=int(input(\"enter 1 for more table and 0 for terminating=\"))\n",
    " if choice==0: \n",
    "   break;\n",
    " n+=1\n",
    " #problem :it shows error or wrong output if we r writing the program by touchin \n",
    " #cornerleft"
   ]
  },
  {
   "cell_type": "code",
   "execution_count": 1,
   "id": "4567d736",
   "metadata": {},
   "outputs": [
    {
     "data": {
      "text/plain": [
       "{'0', '1', '4', '5', '6', '7', '8', '9'}"
      ]
     },
     "execution_count": 1,
     "metadata": {},
     "output_type": "execute_result"
    }
   ],
   "source": [
    "# LAB\n",
    "#Task 1: Write a program to demonstrate different built in methods of sets in Python.\n",
    "#At least 7 built-in methods.\n",
    "set1={'0', '1', '4', '5', '6', '7', '8', '9'}\n",
    "set1\n"
   ]
  },
  {
   "cell_type": "code",
   "execution_count": 6,
   "id": "f1fe63ca",
   "metadata": {},
   "outputs": [
    {
     "data": {
      "text/plain": [
       "{'0', '1', '4', '5', '6', '7', '8', '9', 'av'}"
      ]
     },
     "execution_count": 6,
     "metadata": {},
     "output_type": "execute_result"
    }
   ],
   "source": [
    "# add() method\n",
    "set1.add('av')\n",
    "set1"
   ]
  },
  {
   "cell_type": "code",
   "execution_count": 10,
   "id": "70d314cd",
   "metadata": {},
   "outputs": [
    {
     "data": {
      "text/plain": [
       "'4'"
      ]
     },
     "execution_count": 10,
     "metadata": {},
     "output_type": "execute_result"
    }
   ],
   "source": [
    "#pop()\n",
    "set1.pop()          # indexing is not possible "
   ]
  },
  {
   "cell_type": "code",
   "execution_count": 11,
   "id": "abb50cf1",
   "metadata": {},
   "outputs": [
    {
     "data": {
      "text/plain": [
       "{'0', '5', '6', '7', '8', '9', 'av'}"
      ]
     },
     "execution_count": 11,
     "metadata": {},
     "output_type": "execute_result"
    }
   ],
   "source": [
    "set1"
   ]
  },
  {
   "cell_type": "code",
   "execution_count": 12,
   "id": "791eadf3",
   "metadata": {},
   "outputs": [],
   "source": [
    "#remove()\n",
    "set1.remove('7')"
   ]
  },
  {
   "cell_type": "code",
   "execution_count": 30,
   "id": "8039db97",
   "metadata": {},
   "outputs": [
    {
     "data": {
      "text/plain": [
       "{'0', '5', '6', '8', '9', 'av'}"
      ]
     },
     "execution_count": 30,
     "metadata": {},
     "output_type": "execute_result"
    }
   ],
   "source": [
    "set1"
   ]
  },
  {
   "cell_type": "code",
   "execution_count": 31,
   "id": "ddef9db4",
   "metadata": {},
   "outputs": [],
   "source": [
    "set2={\"av\", \"b\", \"c\"}"
   ]
  },
  {
   "cell_type": "code",
   "execution_count": 32,
   "id": "893f686d",
   "metadata": {},
   "outputs": [
    {
     "data": {
      "text/plain": [
       "{'0', '5', '6', '8', '9', 'av', 'b', 'c'}"
      ]
     },
     "execution_count": 32,
     "metadata": {},
     "output_type": "execute_result"
    }
   ],
   "source": [
    "#union()\n",
    "e=set1.union(set2)\n",
    "e"
   ]
  },
  {
   "cell_type": "code",
   "execution_count": 33,
   "id": "ef4eeb12",
   "metadata": {},
   "outputs": [],
   "source": [
    "#update\n",
    "set3={'dfd','sd','sf'}\n",
    "e.update(set3)"
   ]
  },
  {
   "cell_type": "code",
   "execution_count": 34,
   "id": "b81acae2",
   "metadata": {},
   "outputs": [
    {
     "data": {
      "text/plain": [
       "{'0', '5', '6', '8', '9', 'av', 'b', 'c', 'dfd', 'sd', 'sf'}"
      ]
     },
     "execution_count": 34,
     "metadata": {},
     "output_type": "execute_result"
    }
   ],
   "source": [
    "e"
   ]
  },
  {
   "cell_type": "code",
   "execution_count": 35,
   "id": "8e5fa7a0",
   "metadata": {},
   "outputs": [
    {
     "data": {
      "text/plain": [
       "{'0', '5', '6', '8', '9', 'av', 'b', 'c', 'dfd', 'sd', 'sf'}"
      ]
     },
     "execution_count": 35,
     "metadata": {},
     "output_type": "execute_result"
    }
   ],
   "source": [
    "e.intersection()\n",
    "e"
   ]
  },
  {
   "cell_type": "code",
   "execution_count": 36,
   "id": "7151ba79",
   "metadata": {},
   "outputs": [
    {
     "name": "stdout",
     "output_type": "stream",
     "text": [
      "9\n",
      "0\n",
      "dfd\n",
      "sd\n",
      "5\n",
      "6\n",
      "c\n",
      "sf\n",
      "av\n",
      "b\n",
      "8\n"
     ]
    }
   ],
   "source": [
    "for i in e:\n",
    "    print(i)"
   ]
  },
  {
   "cell_type": "code",
   "execution_count": 37,
   "id": "b9062827",
   "metadata": {},
   "outputs": [],
   "source": [
    "#clear()\n",
    "e.clear()"
   ]
  },
  {
   "cell_type": "code",
   "execution_count": 38,
   "id": "90701064",
   "metadata": {},
   "outputs": [
    {
     "data": {
      "text/plain": [
       "set()"
      ]
     },
     "execution_count": 38,
     "metadata": {},
     "output_type": "execute_result"
    }
   ],
   "source": [
    "e"
   ]
  },
  {
   "cell_type": "code",
   "execution_count": 69,
   "id": "8392f825",
   "metadata": {},
   "outputs": [
    {
     "data": {
      "text/plain": [
       "('j', 'g', 2101, '4.5', 10001)"
      ]
     },
     "execution_count": 69,
     "metadata": {},
     "output_type": "execute_result"
    }
   ],
   "source": [
    "#Task 2:  Write a program to demonstrate different built  in methods of dictionary in Python.\n",
    "tuple1=('j','g',2101,'4.5', 10001)\n",
    "tuple1"
   ]
  },
  {
   "cell_type": "code",
   "execution_count": 45,
   "id": "3d4528c6",
   "metadata": {},
   "outputs": [
    {
     "data": {
      "text/plain": [
       "5"
      ]
     },
     "execution_count": 45,
     "metadata": {},
     "output_type": "execute_result"
    }
   ],
   "source": [
    "len(tuple1)"
   ]
  },
  {
   "cell_type": "code",
   "execution_count": 46,
   "id": "33e7967a",
   "metadata": {},
   "outputs": [
    {
     "data": {
      "text/plain": [
       "tuple"
      ]
     },
     "execution_count": 46,
     "metadata": {},
     "output_type": "execute_result"
    }
   ],
   "source": [
    "type(tuple1)"
   ]
  },
  {
   "cell_type": "code",
   "execution_count": 48,
   "id": "db7fecfe",
   "metadata": {},
   "outputs": [],
   "source": [
    "list=['abc','xr','gdjh']"
   ]
  },
  {
   "cell_type": "code",
   "execution_count": 53,
   "id": "c77718a2",
   "metadata": {},
   "outputs": [],
   "source": [
    "x=tuple(list)"
   ]
  },
  {
   "cell_type": "code",
   "execution_count": 54,
   "id": "b33b1ef8",
   "metadata": {},
   "outputs": [
    {
     "data": {
      "text/plain": [
       "('abc', 'xr', 'gdjh')"
      ]
     },
     "execution_count": 54,
     "metadata": {},
     "output_type": "execute_result"
    }
   ],
   "source": [
    "x"
   ]
  },
  {
   "cell_type": "code",
   "execution_count": 55,
   "id": "0e880a9e",
   "metadata": {},
   "outputs": [],
   "source": [
    "f=(x,tuple1)"
   ]
  },
  {
   "cell_type": "code",
   "execution_count": 56,
   "id": "c08c7f7c",
   "metadata": {},
   "outputs": [
    {
     "data": {
      "text/plain": [
       "(('abc', 'xr', 'gdjh'), ('j', 'g', 2101, '4.5', 10001))"
      ]
     },
     "execution_count": 56,
     "metadata": {},
     "output_type": "execute_result"
    }
   ],
   "source": [
    "f"
   ]
  },
  {
   "cell_type": "code",
   "execution_count": 57,
   "id": "e1d814e0",
   "metadata": {},
   "outputs": [
    {
     "data": {
      "text/plain": [
       "2101"
      ]
     },
     "execution_count": 57,
     "metadata": {},
     "output_type": "execute_result"
    }
   ],
   "source": [
    "#slicing possible\n",
    "tuple1[2]"
   ]
  },
  {
   "cell_type": "code",
   "execution_count": 71,
   "id": "892caa40",
   "metadata": {},
   "outputs": [
    {
     "data": {
      "text/plain": [
       "('j', 'g', 2101, '4.5', 10001)"
      ]
     },
     "execution_count": 71,
     "metadata": {},
     "output_type": "execute_result"
    }
   ],
   "source": [
    "tuple1\n"
   ]
  },
  {
   "cell_type": "code",
   "execution_count": 81,
   "id": "800e8cba",
   "metadata": {},
   "outputs": [],
   "source": [
    "tuple1=x"
   ]
  },
  {
   "cell_type": "code",
   "execution_count": 82,
   "id": "d9324c67",
   "metadata": {},
   "outputs": [
    {
     "data": {
      "text/plain": [
       "('abc', 'xr', 'gdjh')"
      ]
     },
     "execution_count": 82,
     "metadata": {},
     "output_type": "execute_result"
    }
   ],
   "source": [
    "tuple1"
   ]
  },
  {
   "cell_type": "code",
   "execution_count": 11,
   "id": "48b100e4",
   "metadata": {},
   "outputs": [
    {
     "name": "stdout",
     "output_type": "stream",
     "text": [
      "enter 4\n",
      "value 2\n",
      "[2]\n",
      "value 4\n",
      "[2, 4]\n",
      "value 5\n",
      "[2, 4, 5]\n",
      "value 6\n",
      "[2, 4, 5, 6]\n"
     ]
    }
   ],
   "source": [
    "# Average of Numbers in a Given List\n",
    "n=int(input('enter '))\n",
    "a=[]\n",
    "for i in range(n):\n",
    "    e=int(input('value '))\n",
    "    a.append(e)\n",
    "    print(a)"
   ]
  },
  {
   "cell_type": "code",
   "execution_count": 12,
   "id": "cafce8b6",
   "metadata": {},
   "outputs": [
    {
     "data": {
      "text/plain": [
       "[2, 4, 5, 6]"
      ]
     },
     "execution_count": 12,
     "metadata": {},
     "output_type": "execute_result"
    }
   ],
   "source": [
    "a"
   ]
  },
  {
   "cell_type": "code",
   "execution_count": 13,
   "id": "7f3899d6",
   "metadata": {},
   "outputs": [],
   "source": [
    "avg=sum(a)/n"
   ]
  },
  {
   "cell_type": "code",
   "execution_count": 15,
   "id": "455c2c60",
   "metadata": {},
   "outputs": [
    {
     "data": {
      "text/plain": [
       "4.25"
      ]
     },
     "execution_count": 15,
     "metadata": {},
     "output_type": "execute_result"
    }
   ],
   "source": [
    "avg"
   ]
  },
  {
   "cell_type": "code",
   "execution_count": 19,
   "id": "ee86734b",
   "metadata": {},
   "outputs": [
    {
     "name": "stdout",
     "output_type": "stream",
     "text": [
      "enter1 23\n",
      "enter2 45\n",
      "45 23\n"
     ]
    }
   ],
   "source": [
    "#  Exchange the Values of Two Numbers without using temporery var\n",
    "\n",
    "a=int(input('enter1 '))\n",
    "b=int(input('enter2 '))\n",
    "a = a+b\n",
    "b= a-b\n",
    "a =a-b\n",
    "print(a,b)"
   ]
  },
  {
   "cell_type": "code",
   "execution_count": 1,
   "id": "e006fdbf",
   "metadata": {},
   "outputs": [
    {
     "name": "stdout",
     "output_type": "stream",
     "text": [
      "enter 5\n",
      "615\n"
     ]
    }
   ],
   "source": [
    "# Read a number n and Compute n+nn+nnn\n",
    "\n",
    "n=int(input('enter '))\n",
    "t=str(n)\n",
    "t1=t+t\n",
    "t2=t+t+t\n",
    "t3=n+int(t1)+int(t2)\n",
    "print(t3)\n"
   ]
  },
  {
   "cell_type": "code",
   "execution_count": null,
   "id": "da5a7e62",
   "metadata": {},
   "outputs": [],
   "source": [
    "a=int(input('enter: '))\n",
    "rev=0\n",
    "while(a>0):\n",
    "    v=a%10\n",
    "    rev=rev*10+v           #reverse the num \n",
    "    a=a//10\n",
    "    print(rev)"
   ]
  },
  {
   "cell_type": "code",
   "execution_count": 6,
   "id": "52a686f4",
   "metadata": {},
   "outputs": [
    {
     "name": "stdout",
     "output_type": "stream",
     "text": [
      "enter -5\n",
      "n is -ve\n"
     ]
    }
   ],
   "source": [
    "# to check the number is positiv or negative\n",
    "n=int(input('enter '))\n",
    "if n>=0:\n",
    "    print('n is +ve')\n",
    "else:\n",
    "    print('n is -ve')\n"
   ]
  },
  {
   "cell_type": "code",
   "execution_count": 9,
   "id": "98d63f78",
   "metadata": {},
   "outputs": [
    {
     "name": "stdout",
     "output_type": "stream",
     "text": [
      "Enter marks of the first subject: 34\n",
      "Enter marks of the second subject: 56\n",
      "Enter marks of the third subject: 45\n",
      "Enter marks of the fourth subject: 34\n",
      "Enter marks of the fifth subject: 78\n",
      "average value : 40.6\n",
      "Grade: F\n"
     ]
    }
   ],
   "source": [
    "# to take in the marks of 5 subjects and display the grade\n",
    "sub1=int(input(\"Enter marks of the first subject: \"))\n",
    "sub2=int(input(\"Enter marks of the second subject: \"))\n",
    "sub3=int(input(\"Enter marks of the third subject: \"))\n",
    "sub4=int(input(\"Enter marks of the fourth subject: \"))\n",
    "sub5=int(input(\"Enter marks of the fifth subject: \"))\n",
    "avg=(sub1+sub2+sub3+sub4+sub4)/5\n",
    "print('average value :',avg)\n",
    "if(avg>=90):\n",
    "    print(\"Grade: A\")\n",
    "elif(avg>=80 and avg<90):\n",
    "    print(\"Grade: B\")\n",
    "elif(avg>=70 and avg<80):\n",
    "    print(\"Grade: C\")\n",
    "elif(avg>=60 and avg<70):\n",
    "    print(\"Grade: D\")\n",
    "else:\n",
    "    print(\"Grade: F\")"
   ]
  },
  {
   "cell_type": "code",
   "execution_count": 15,
   "id": "a31bce97",
   "metadata": {},
   "outputs": [
    {
     "name": "stdout",
     "output_type": "stream",
     "text": [
      "val1 3\n",
      "val2 45\n",
      "val3 6\n",
      "6\n",
      "12\n",
      "18\n",
      "24\n",
      "30\n",
      "36\n",
      "42\n"
     ]
    }
   ],
   "source": [
    "# to print all numbers in a range divisible by a given number.\n",
    "a=int(input('val1 '))\n",
    "b=int(input('val2 '))\n",
    "v=int(input('val3 '))\n",
    "for i in range(a,b):\n",
    "    if(i%v==0):\n",
    "        print(i)\n",
    "   "
   ]
  },
  {
   "cell_type": "code",
   "execution_count": 1,
   "id": "1ad2ab8f",
   "metadata": {},
   "outputs": [
    {
     "name": "stdout",
     "output_type": "stream",
     "text": [
      "val1 43\n",
      "val2 345\n",
      "Quotient is 0 Remainder is 43\n"
     ]
    }
   ],
   "source": [
    "# to read two numbers and print their quotient and remainder.\n",
    "a=int(input('val1 '))\n",
    "b=int(input('val2 '))\n",
    "r=a%b\n",
    "q=a//b\n",
    "print('Quotient is',q,'Remainder is',r)"
   ]
  },
  {
   "cell_type": "markdown",
   "id": "2b4c5d77",
   "metadata": {},
   "source": [
    "\n"
   ]
  },
  {
   "cell_type": "code",
   "execution_count": 1,
   "id": "28fd90fa",
   "metadata": {},
   "outputs": [
    {
     "name": "stdout",
     "output_type": "stream",
     "text": [
      "val1 45\n",
      "val2 67\n",
      "45\n",
      "47\n",
      "49\n",
      "51\n",
      "53\n",
      "55\n",
      "57\n",
      "59\n",
      "61\n",
      "63\n",
      "65\n",
      "67\n"
     ]
    }
   ],
   "source": [
    "# to print odd numbers within a given range\n",
    "a=int(input('val1 '))\n",
    "a1=int(input('val2 '))\n",
    "for i in range(a,a1+1):\n",
    "    if(i%2!=0):\n",
    "        print(i)\n",
    "    \n"
   ]
  },
  {
   "cell_type": "markdown",
   "id": "99660ce6",
   "metadata": {},
   "source": [
    "\n"
   ]
  },
  {
   "cell_type": "code",
   "execution_count": 15,
   "id": "4c712faf",
   "metadata": {},
   "outputs": [
    {
     "name": "stdout",
     "output_type": "stream",
     "text": [
      "val 4545\n",
      "18\n"
     ]
    }
   ],
   "source": [
    "a=int(input('val '))\n",
    "t=0\n",
    "while(a>0):\n",
    "    v=a%10\n",
    "    t=t+v\n",
    "    a=a//10\n",
    "print(t)"
   ]
  },
  {
   "cell_type": "code",
   "execution_count": 3,
   "id": "f7f98709",
   "metadata": {},
   "outputs": [
    {
     "name": "stdout",
     "output_type": "stream",
     "text": [
      "val 356546\n",
      "smallest divisor  2\n"
     ]
    }
   ],
   "source": [
    "# to find the smallest divisor of an integer\n",
    "n=int(input('val '))\n",
    "a=[]\n",
    "for i in range(2,n+1):\n",
    "    if(n%i==0):\n",
    "        a.append(i)\n",
    "a.sort()\n",
    "\n",
    "print('smallest divisor ',a[0])\n",
    "    "
   ]
  },
  {
   "cell_type": "code",
   "execution_count": 2,
   "id": "dfaa9e63",
   "metadata": {},
   "outputs": [
    {
     "name": "stdout",
     "output_type": "stream",
     "text": [
      "val134\n",
      "val242\n",
      "val356\n",
      "List  [34, 42, 56]\n",
      "34 42 56\n",
      "34 56 42\n",
      "42 34 56\n",
      "42 56 34\n",
      "56 34 42\n",
      "56 42 34\n"
     ]
    }
   ],
   "source": [
    "l=[]\n",
    "a=int(input('val1'))\n",
    "b=int(input('val2'))\n",
    "c=int(input('val3'))\n",
    "l.append(a)\n",
    "l.append(b)\n",
    "l.append(c)\n",
    "print('List ',l)\n",
    "for i in range(0,3):\n",
    "    for j in range(0,3):\n",
    "        for k in range(0,3):\n",
    "            if(i!=j&j!=k&k!=i):\n",
    "                print(l[i],l[j],l[k])"
   ]
  },
  {
   "cell_type": "code",
   "execution_count": 5,
   "id": "9326b0f6",
   "metadata": {},
   "outputs": [
    {
     "name": "stdout",
     "output_type": "stream",
     "text": [
      "val 5645979\n",
      "7\n"
     ]
    }
   ],
   "source": [
    "n=int(input('val '))   # count the digits in given number\n",
    "count=0\n",
    "while(n>0):\n",
    "    count=count+1\n",
    "    n=n//10\n",
    "print(count)"
   ]
  },
  {
   "cell_type": "code",
   "execution_count": 19,
   "id": "528b8ac3",
   "metadata": {},
   "outputs": [
    {
     "name": "stdout",
     "output_type": "stream",
     "text": [
      "number 4534354\n",
      "palindrome\n"
     ]
    }
   ],
   "source": [
    "# to check if a number is a palindrome\n",
    "a=int(input('number '))\n",
    "t=a\n",
    "r=0\n",
    "while(a>0):\n",
    "    v=a%10\n",
    "    r=r*10+v\n",
    "    a=a//10\n",
    "if(t==r):\n",
    "    print('palindrome')\n",
    "else:\n",
    "    print('not valid')"
   ]
  },
  {
   "cell_type": "code",
   "execution_count": 29,
   "id": "317da31e",
   "metadata": {},
   "outputs": [
    {
     "name": "stdout",
     "output_type": "stream",
     "text": [
      "val 6\n",
      "1 + 2 + 3 + 4 + 5 + 6 = 15\n",
      "\n"
     ]
    }
   ],
   "source": [
    "#  to read a number n and print and compute the series “1+2+…+n=”.\n",
    "n=int(input('val '))\n",
    "a=[]\n",
    "for i in range(1,n+1):\n",
    "    print(i,sep=' ',end=' ')\n",
    "    if(i<n):\n",
    "        print('+',sep=' ',end=' ')\n",
    "        a.append(i)\n",
    "print('=', sum(a))\n",
    "   \n",
    "print()"
   ]
  },
  {
   "cell_type": "code",
   "execution_count": 3,
   "id": "9419bf3e",
   "metadata": {},
   "outputs": [
    {
     "name": "stdout",
     "output_type": "stream",
     "text": [
      "how many string  2\n",
      "enter string avh\n",
      "enter string so ni\n"
     ]
    }
   ],
   "source": [
    "'''Group of strings'''\n",
    "str=[]\n",
    "n=int(input('how many string  '))\n",
    "for i in range(n):\n",
    "    print('enter string ', end='')\n",
    "    str.append(input())  "
   ]
  },
  {
   "cell_type": "code",
   "execution_count": 9,
   "id": "f282f345",
   "metadata": {},
   "outputs": [
    {
     "name": "stdout",
     "output_type": "stream",
     "text": [
      "how many string you want 4\n",
      "enter string av\n",
      "enter string av\n",
      "enter string av\n",
      "enter string skf\n",
      "enter string which you want to search av\n",
      "found at  1\n",
      "found at  2\n",
      "found at  3\n"
     ]
    }
   ],
   "source": [
    "'''searching a position of string in a group of string'''\n",
    "str=[]\n",
    "n = int(input('how many string you want '))\n",
    "for i in range(n):\n",
    "    print('enter string ',end='')\n",
    "    str.append(input())\n",
    "s=input('enter string which you want to search ')\n",
    "f=False\n",
    "for i in range(len(str)):\n",
    "    if str[i]==s:\n",
    "        print('found at ',i+1)\n",
    "        f=True\n",
    "        \n",
    "    if f==False:\n",
    "        print('not found')"
   ]
  },
  {
   "cell_type": "code",
   "execution_count": 23,
   "id": "6af3a4cf",
   "metadata": {},
   "outputs": [
    {
     "name": "stdout",
     "output_type": "stream",
     "text": [
      "enter string abhirajverma\n",
      "a\n",
      "a\n",
      "a\n",
      "a\n",
      "a\n",
      "a\n",
      "a\n",
      "a\n",
      "a\n",
      "a\n",
      "a\n",
      "a\n"
     ]
    }
   ],
   "source": [
    "str=input('enter string ')\n",
    "i=0\n",
    "for s in str:\n",
    "    print(str[i])     # stop string where i want to stop "
   ]
  },
  {
   "cell_type": "code",
   "execution_count": 25,
   "id": "26ef543d",
   "metadata": {},
   "outputs": [
    {
     "name": "stdout",
     "output_type": "stream",
     "text": [
      "enter string: abhi is my name\n",
      "abhi is my name15\n"
     ]
    }
   ],
   "source": [
    "'''lenght of string without len() function'''\n",
    "str=input('enter string: ')\n",
    "i=0\n",
    "for S in str:\n",
    "    print(str[i], end='')\n",
    "    i+=1\n",
    "print(i)   "
   ]
  },
  {
   "cell_type": "code",
   "execution_count": 34,
   "id": "44d022da",
   "metadata": {},
   "outputs": [
    {
     "name": "stdout",
     "output_type": "stream",
     "text": [
      "enter string :abhi is name\n",
      "enter sub string :my\n",
      "enter no : 9\n",
      "abhi is myname\n"
     ]
    }
   ],
   "source": [
    "# INSERT A SUB STRING IN A STRING\n",
    "str=input('enter string :')\n",
    "sub=input('enter sub string :')\n",
    "n=int(input('enter no : '))\n",
    "n-=1\n",
    "str1=[]\n",
    "for i in range(n):\n",
    "    str1.append(str[i])\n",
    "for i in range(len(sub)):\n",
    "    str1.append(sub[i])\n",
    "for i in range(n,len(str)):\n",
    "    str1.append(str[i])\n",
    "str1=''.join(str1)          #convert individual char of list to string\n",
    "print(str1)"
   ]
  },
  {
   "cell_type": "code",
   "execution_count": 42,
   "id": "5fbb998c",
   "metadata": {},
   "outputs": [
    {
     "name": "stdout",
     "output_type": "stream",
     "text": [
      "Hai How are you\n"
     ]
    }
   ],
   "source": [
    "def fun(str):\n",
    "    return 'Hai '+str\n",
    "def fun1():                              \n",
    "    return 'How are you'\n",
    "x=fun(fun1())                             #function as parameter in another function\n",
    "print(x)"
   ]
  },
  {
   "cell_type": "code",
   "execution_count": 1,
   "id": "4a377c5b",
   "metadata": {},
   "outputs": [
    {
     "name": "stdout",
     "output_type": "stream",
     "text": [
      "val 34\n",
      "1 2 3 4 5 6 7 8 9 10 11 12 13 14 15 16 17 18 19 20 21 22 23 24 25 26 27 28 29 30 31 32 33 34 "
     ]
    },
    {
     "ename": "TypeError",
     "evalue": "sorted expected 1 argument, got 0",
     "output_type": "error",
     "traceback": [
      "\u001b[1;31m---------------------------------------------------------------------------\u001b[0m",
      "\u001b[1;31mTypeError\u001b[0m                                 Traceback (most recent call last)",
      "\u001b[1;32m<ipython-input-1-64479b4d211f>\u001b[0m in \u001b[0;36m<module>\u001b[1;34m\u001b[0m\n\u001b[0;32m      2\u001b[0m \u001b[1;32mfor\u001b[0m \u001b[0mi\u001b[0m \u001b[1;32min\u001b[0m \u001b[0mrange\u001b[0m\u001b[1;33m(\u001b[0m\u001b[1;36m1\u001b[0m\u001b[1;33m,\u001b[0m\u001b[0mn\u001b[0m\u001b[1;33m+\u001b[0m\u001b[1;36m1\u001b[0m\u001b[1;33m)\u001b[0m\u001b[1;33m:\u001b[0m\u001b[1;33m\u001b[0m\u001b[1;33m\u001b[0m\u001b[0m\n\u001b[0;32m      3\u001b[0m     \u001b[0mprint\u001b[0m\u001b[1;33m(\u001b[0m\u001b[0mi\u001b[0m\u001b[1;33m,\u001b[0m\u001b[0msep\u001b[0m\u001b[1;33m=\u001b[0m\u001b[1;34m' '\u001b[0m\u001b[1;33m,\u001b[0m\u001b[0mend\u001b[0m\u001b[1;33m=\u001b[0m\u001b[1;34m' '\u001b[0m\u001b[1;33m)\u001b[0m\u001b[1;33m\u001b[0m\u001b[1;33m\u001b[0m\u001b[0m\n\u001b[1;32m----> 4\u001b[1;33m \u001b[0mstr1\u001b[0m\u001b[1;33m=\u001b[0m\u001b[0msorted\u001b[0m\u001b[1;33m(\u001b[0m\u001b[1;33m)\u001b[0m\u001b[1;33m\u001b[0m\u001b[1;33m\u001b[0m\u001b[0m\n\u001b[0m",
      "\u001b[1;31mTypeError\u001b[0m: sorted expected 1 argument, got 0"
     ]
    }
   ],
   "source": [
    "n=int(input('val '))\n",
    "for i in range(1,n+1):\n",
    "    print(i,sep=' ',end=' ')\n",
    "str1=sorted()"
   ]
  },
  {
   "cell_type": "code",
   "execution_count": 17,
   "id": "405a1298",
   "metadata": {},
   "outputs": [
    {
     "name": "stdout",
     "output_type": "stream",
     "text": [
      "simple interest of p=34435,r=4.5,t=6 is : 9297.45\n"
     ]
    }
   ],
   "source": [
    "def sim_interest(p,r,t):\n",
    "    return (p*r*t)/100\n",
    "s=sim_interest(34435,4.5,6)\n",
    "print('simple interest of p={},r={},t={}'.format(34435,4.5,6),'is :',s)\n"
   ]
  },
  {
   "cell_type": "code",
   "execution_count": 5,
   "id": "359fb31f",
   "metadata": {},
   "outputs": [
    {
     "name": "stdout",
     "output_type": "stream",
     "text": [
      "enter y 2000\n",
      "year 2000 is leap year\n"
     ]
    }
   ],
   "source": [
    "def leap_yy():\n",
    "    yy=int(input('enter y '))\n",
    "    if(yy%4==0 or yy%100!=0 and yy%400==0):\n",
    "        print('year {}'.format(yy),'is leap year')\n",
    "    else:\n",
    "        print('year {}'.format(yy),'is not leap year')\n",
    "leap_yy()"
   ]
  },
  {
   "cell_type": "code",
   "execution_count": 23,
   "id": "709d7b2f",
   "metadata": {},
   "outputs": [
    {
     "name": "stdout",
     "output_type": "stream",
     "text": [
      "val 7\n",
      "1 = 1\n",
      "1 + 2 = 3\n",
      "1 + 2 + 3 = 6\n",
      "1 + 2 + 3 + 4 = 10\n",
      "1 + 2 + 3 + 4 + 5 = 15\n",
      "1 + 2 + 3 + 4 + 5 + 6 = 21\n",
      "1 + 2 + 3 + 4 + 5 + 6 + 7 = 28\n",
      "\n"
     ]
    }
   ],
   "source": [
    "# to Read a Number n and Print the Natural Numbers Summation Pattern\n",
    "n=int(input('val '))\n",
    "a=[]\n",
    "for i in range(1,n+1):\n",
    "    for j in range(1,i+1):\n",
    "        print(j,sep=' ',end=' ')\n",
    "        if(j<i):\n",
    "            print('+',sep=' ',end=' ')\n",
    "    a.append(j)\n",
    "    print('=',sum(a))\n",
    "print()"
   ]
  },
  {
   "cell_type": "code",
   "execution_count": 45,
   "id": "1fbaa945",
   "metadata": {},
   "outputs": [
    {
     "name": "stdout",
     "output_type": "stream",
     "text": [
      "val 7\n",
      "1 0 0 0 0 0 0 \n",
      "0 1 0 0 0 0 0 \n",
      "0 0 1 0 0 0 0 \n",
      "0 0 0 1 0 0 0 \n",
      "0 0 0 0 1 0 0 \n",
      "0 0 0 0 0 1 0 \n",
      "0 0 0 0 0 0 1 \n"
     ]
    }
   ],
   "source": [
    "# identity matrix\n",
    "n=int(input('val '))\n",
    "for i in range(0,n):\n",
    "    for j in range(0,n):\n",
    "        \n",
    "        if(i==j):\n",
    "            print('1',sep=' ',end=' ')\n",
    "        else:\n",
    "            print('0',sep=' ',end=' ')\n",
    "    print()"
   ]
  },
  {
   "cell_type": "code",
   "execution_count": 25,
   "id": "3eb08e03",
   "metadata": {},
   "outputs": [
    {
     "name": "stdout",
     "output_type": "stream",
     "text": [
      "1\n",
      "5\n",
      "7\n",
      "11\n",
      "13\n",
      "17\n",
      "19\n",
      "23\n",
      "25\n",
      "29\n",
      "31\n",
      "35\n",
      "37\n",
      "41\n",
      "43\n",
      "47\n",
      "49\n"
     ]
    }
   ],
   "source": [
    "# to print all integers that aren’t divisible by either 2 or 3 and lies between 1 and 50.\n",
    "for i in range(1,51):\n",
    "    if(i%2!=0 and i%3!=0):\n",
    "        print(i)\n",
    "        \n",
    "        "
   ]
  },
  {
   "cell_type": "code",
   "execution_count": 59,
   "id": "37ef07e5",
   "metadata": {},
   "outputs": [
    {
     "name": "stdout",
     "output_type": "stream",
     "text": [
      "val 5\n",
      "0 0 0 0 0 1 1 1 1 1 2 2 2 2 2 3 3 3 3 3 4 4 4 4 4 "
     ]
    }
   ],
   "source": [
    "n=int(input('val '))\n",
    "for i in range(0,n):\n",
    "    for j in range(0,n):         #same range\n",
    "        print(i,sep=' ',end=' ')\n"
   ]
  },
  {
   "cell_type": "code",
   "execution_count": 1,
   "id": "ff92c9b1",
   "metadata": {},
   "outputs": [
    {
     "name": "stdout",
     "output_type": "stream",
     "text": [
      "val 4\n",
      "1 2 2 3 3 3 "
     ]
    }
   ],
   "source": [
    "n=int(input('val '))\n",
    "for i in range(0,n):\n",
    "    for j in range(0,i):         # range of previous\n",
    "        print(i,sep=' ',end=' ')"
   ]
  },
  {
   "cell_type": "code",
   "execution_count": 3,
   "id": "f33ee6bf",
   "metadata": {
    "scrolled": true
   },
   "outputs": [
    {
     "name": "stdout",
     "output_type": "stream",
     "text": [
      "v 5\n",
      "1 0 0 0 \n",
      "0 1 0 0 \n",
      "0 0 1 0 \n",
      "0 0 0 1 \n"
     ]
    }
   ],
   "source": [
    "a=int(input('v '))\n",
    "for i in range(1,a):\n",
    "    for j in range(1,a):\n",
    "        if(i==j):\n",
    "            print('1',sep=' ',end=' ')\n",
    "        else:\n",
    "            print('0',sep=' ',end=' ')\n",
    "    print()"
   ]
  },
  {
   "cell_type": "code",
   "execution_count": 11,
   "id": "4c7239b4",
   "metadata": {},
   "outputs": [
    {
     "name": "stdout",
     "output_type": "stream",
     "text": [
      "enter number: 3\n",
      "enter ele 67\n",
      "enter ele 89\n",
      "enter ele 97\n",
      "67\n",
      "89\n",
      "97\n",
      "indexing \n",
      "\n",
      "67\n",
      "89\n",
      "97\n"
     ]
    }
   ],
   "source": [
    "# input by user in array\n",
    "import array as ar\n",
    "a1=(ar.array('i',[]))\n",
    "n=int(input('enter number: '))\n",
    "for i in range(n):\n",
    "    a1.append(int(input('enter ele ')))\n",
    "for i in range(len(a1)):\n",
    "    print(a1[i])\n",
    "print('indexing \\n')\n",
    "for i in range(len(a1)):\n",
    "    a1.index(a1[i])\n",
    "    print(a1[i])"
   ]
  },
  {
   "cell_type": "code",
   "execution_count": 14,
   "id": "d0ae1790",
   "metadata": {},
   "outputs": [
    {
     "name": "stdout",
     "output_type": "stream",
     "text": [
      "list after appending\n",
      "3\n",
      "43\n",
      "32\n",
      "54\n",
      "reversed list  [54, 32, 43, 3]\n",
      "reversed array  [54, 32, 43, 3]\n"
     ]
    }
   ],
   "source": [
    "# Write a Python program to reverse the order of the items in the array\n",
    "import array as ar\n",
    "a=ar.array('i',[3,43,32,54])\n",
    "l=[]\n",
    "for i in range(len(a)):  #indexing\n",
    "    a.index(a[i])\n",
    "print('list after appending')\n",
    "for i in range(len(a)):\n",
    "    l.append(a[i])\n",
    "    print(l[i])\n",
    "r=l[::-1]\n",
    "print('reversed list ',r)\n",
    "a1=ar.array('i',r)\n",
    "print('reversed array ',r)\n"
   ]
  },
  {
   "cell_type": "code",
   "execution_count": 25,
   "id": "8d9d9fd7",
   "metadata": {},
   "outputs": [
    {
     "name": "stdout",
     "output_type": "stream",
     "text": [
      "Original array:\n",
      "10 11 12 13 14 16 17 18 19 20 \n",
      "Missing number in the said array (10-20):  15\n"
     ]
    }
   ],
   "source": [
    "#missing number in between\n",
    "import array as arr\n",
    "def test(nums):\n",
    "    return sum(range(10, 21)) - sum(list(nums))\n",
    "\n",
    "a = arr.array('i', [10, 11, 12, 13, 14, 16, 17, 18, 19, 20])\n",
    "print(\"Original array:\")\n",
    "for i in range(len(a)):    \n",
    "    print(a[i], end=' ')\n",
    "print(\"\\nMissing number in the said array (10-20): \",test(a))"
   ]
  },
  {
   "cell_type": "code",
   "execution_count": 6,
   "id": "803afab8",
   "metadata": {
    "scrolled": true
   },
   "outputs": [
    {
     "name": "stdout",
     "output_type": "stream",
     "text": [
      "Enter the date: 30/02/2012\n",
      "\n"
     ]
    }
   ],
   "source": [
    "# to check if a date is valid and print the incremented date if it is.\n",
    "                                              #NOT WORKING\n",
    "date=input(\"Enter the date: \")\n",
    "d,m,y=date.split('/')\n",
    "d=int(d)\n",
    "m=int(m)\n",
    "y=int(y)\n",
    "if(m==1 or m==3 or m==5 or m==7 or m==9 or m==11):\n",
    "    max=31\n",
    "elif(m==4 or m==6 or m==8 or m==10 or m==12):\n",
    "    max=30\n",
    "elif(y%4==0 and y%100!=0 or y%400==0):\n",
    "    max=29\n",
    "else:\n",
    "    max=28\n",
    "if(m<1 or m>12):\n",
    "    print('invalid date')\n",
    "else:\n",
    "    print()\n",
    "  "
   ]
  },
  {
   "cell_type": "code",
   "execution_count": 38,
   "id": "ca96547c",
   "metadata": {},
   "outputs": [
    {
     "name": "stdout",
     "output_type": "stream",
     "text": [
      "120\n"
     ]
    }
   ],
   "source": [
    "# factorial\n",
    "def fac(num):\n",
    "    p=1\n",
    "    while num>=1:\n",
    "        p=p*num\n",
    "        num-=1\n",
    "    return p\n",
    "f=fac(5)\n",
    "print(f)"
   ]
  },
  {
   "cell_type": "code",
   "execution_count": 2,
   "id": "40c94498",
   "metadata": {},
   "outputs": [
    {
     "name": "stdout",
     "output_type": "stream",
     "text": [
      "abhi\n",
      "17362\n",
      "3000\n",
      "hfi\n"
     ]
    }
   ],
   "source": [
    "#inheritance\n",
    "#parent class\n",
    "class Person(object):       \n",
    "    def __init__(self,name,idnum):   #constructor\n",
    "        self.name=name\n",
    "        self.idnum=idnum\n",
    "    def display(self):\n",
    "        print(self.name)\n",
    "        print(self.idnum)\n",
    "        print(self.salary)\n",
    "        print(self.post)\n",
    "        \n",
    "class Employee(Person):           #child class\n",
    "       def __init__(self,name,idnum,salary,post):\n",
    "            self.salary=salary\n",
    "            self.post=post\n",
    "            Person.__init__(self,name,idnum)    #invoking\n",
    "a=Employee('abhi',17362,3000,'hfi')   \n",
    "a.display()\n",
    "    "
   ]
  },
  {
   "cell_type": "code",
   "execution_count": 67,
   "id": "942ccc05",
   "metadata": {},
   "outputs": [
    {
     "ename": "IndentationError",
     "evalue": "expected an indented block (<ipython-input-67-aa43b430012e>, line 12)",
     "output_type": "error",
     "traceback": [
      "\u001b[1;36m  File \u001b[1;32m\"<ipython-input-67-aa43b430012e>\"\u001b[1;36m, line \u001b[1;32m12\u001b[0m\n\u001b[1;33m    Person1.__init__(self)\u001b[0m\n\u001b[1;37m                          ^\u001b[0m\n\u001b[1;31mIndentationError\u001b[0m\u001b[1;31m:\u001b[0m expected an indented block\n"
     ]
    }
   ],
   "source": [
    "# multiple inheritance\n",
    "class Person1():\n",
    "    def __init__(self):\n",
    "        self.str1='abhi'\n",
    "print('person1')\n",
    "class Person2():\n",
    "    def __init__(self):\n",
    "         self.str2='soni'\n",
    "print('person2')\n",
    "class Base(Person1,Person2):\n",
    "    def __init__(self):\n",
    "        Person1.__init__(self)\n",
    "        Person2.__init__(self)\n",
    "        print('base')\n",
    "def printstr(self):\n",
    "        print(self.str1,self.str2)\n",
    "ob.Base()\n",
    "ob.printstr()"
   ]
  },
  {
   "cell_type": "code",
   "execution_count": 1,
   "id": "f4fec096",
   "metadata": {},
   "outputs": [
    {
     "name": "stdout",
     "output_type": "stream",
     "text": [
      "soni 20 nosara\n"
     ]
    }
   ],
   "source": [
    "class Base(object):\n",
    "    def __init__(self,name):\n",
    "        self.name=name\n",
    "    def getname(self):\n",
    "        return self.name\n",
    "class child(Base):\n",
    "    def __init__(self,name,age):\n",
    "        Base.__init__(self,name)\n",
    "        self.age=age\n",
    "    def getage(self):\n",
    "        return self.age\n",
    "        \n",
    "class child1(child):\n",
    "    def __init__(self, name,age,address):\n",
    "        child.__init__(self,name,age)\n",
    "        self.address=address\n",
    "    def getaddress(self):\n",
    "        return self.address\n",
    "                \n",
    "g=child1('soni',20,'nosara')\n",
    "print(g.getname(),g.getage(),g.getaddress()) "
   ]
  },
  {
   "cell_type": "code",
   "execution_count": 73,
   "id": "b8649d6e",
   "metadata": {},
   "outputs": [
    {
     "data": {
      "text/plain": [
       "'\\nsingle inheritance\\nmultiple inheritance\\nmultilevel inheritance\\nhierarchical \\nhybrid inheritance'"
      ]
     },
     "execution_count": 73,
     "metadata": {},
     "output_type": "execute_result"
    }
   ],
   "source": [
    "'''\n",
    "single inheritance\n",
    "multiple inheritance\n",
    "multilevel inheritance\n",
    "hierarchical \n",
    "hybrid inheritance'''"
   ]
  },
  {
   "cell_type": "code",
   "execution_count": 77,
   "id": "9382092c",
   "metadata": {},
   "outputs": [
    {
     "ename": "AttributeError",
     "evalue": "'d' object has no attribute 'd'",
     "output_type": "error",
     "traceback": [
      "\u001b[1;31m---------------------------------------------------------------------------\u001b[0m",
      "\u001b[1;31mAttributeError\u001b[0m                            Traceback (most recent call last)",
      "\u001b[1;32m<ipython-input-77-b98df4a16654>\u001b[0m in \u001b[0;36m<module>\u001b[1;34m\u001b[0m\n\u001b[0;32m      3\u001b[0m         \u001b[0mself\u001b[0m\u001b[1;33m.\u001b[0m\u001b[0mc\u001b[0m\u001b[1;33m=\u001b[0m\u001b[1;36m21\u001b[0m\u001b[1;33m\u001b[0m\u001b[1;33m\u001b[0m\u001b[0m\n\u001b[0;32m      4\u001b[0m         \u001b[0mself\u001b[0m\u001b[1;33m.\u001b[0m\u001b[0m__d\u001b[0m\u001b[1;33m=\u001b[0m\u001b[1;36m42\u001b[0m \u001b[1;31m#private\u001b[0m\u001b[1;33m\u001b[0m\u001b[1;33m\u001b[0m\u001b[0m\n\u001b[1;32m----> 5\u001b[1;33m \u001b[1;32mclass\u001b[0m \u001b[0md\u001b[0m\u001b[1;33m(\u001b[0m\u001b[0mc\u001b[0m\u001b[1;33m)\u001b[0m\u001b[1;33m:\u001b[0m\u001b[1;33m\u001b[0m\u001b[1;33m\u001b[0m\u001b[0m\n\u001b[0m\u001b[0;32m      6\u001b[0m     \u001b[1;32mdef\u001b[0m \u001b[0m__init__\u001b[0m\u001b[1;33m(\u001b[0m\u001b[0mself\u001b[0m\u001b[1;33m)\u001b[0m\u001b[1;33m:\u001b[0m\u001b[1;33m\u001b[0m\u001b[1;33m\u001b[0m\u001b[0m\n\u001b[0;32m      7\u001b[0m         \u001b[0mself\u001b[0m\u001b[1;33m.\u001b[0m\u001b[0me\u001b[0m\u001b[1;33m=\u001b[0m\u001b[1;36m84\u001b[0m\u001b[1;33m\u001b[0m\u001b[1;33m\u001b[0m\u001b[0m\n",
      "\u001b[1;32m<ipython-input-77-b98df4a16654>\u001b[0m in \u001b[0;36md\u001b[1;34m()\u001b[0m\n\u001b[0;32m      8\u001b[0m         \u001b[0mc\u001b[0m\u001b[1;33m.\u001b[0m\u001b[0m__init__\u001b[0m\u001b[1;33m(\u001b[0m\u001b[0mself\u001b[0m\u001b[1;33m)\u001b[0m\u001b[1;33m\u001b[0m\u001b[1;33m\u001b[0m\u001b[0m\n\u001b[0;32m      9\u001b[0m         \u001b[0mobject1\u001b[0m\u001b[1;33m=\u001b[0m\u001b[0md\u001b[0m\u001b[1;33m(\u001b[0m\u001b[1;33m)\u001b[0m\u001b[1;33m\u001b[0m\u001b[1;33m\u001b[0m\u001b[0m\n\u001b[1;32m---> 10\u001b[1;33m     \u001b[0mprint\u001b[0m\u001b[1;33m(\u001b[0m\u001b[0mobject1\u001b[0m\u001b[1;33m.\u001b[0m\u001b[0md\u001b[0m\u001b[1;33m)\u001b[0m\u001b[1;33m\u001b[0m\u001b[1;33m\u001b[0m\u001b[0m\n\u001b[0m",
      "\u001b[1;31mAttributeError\u001b[0m: 'd' object has no attribute 'd'"
     ]
    }
   ],
   "source": [
    "class c():\n",
    "    def __init__(self):\n",
    "        self.c=21\n",
    "        self.__d=42 #private\n",
    "class d(c):\n",
    "    def __init__(self):\n",
    "        self.e=84\n",
    "        c.__init__(self)\n",
    "        object1=d()\n",
    "    print(object1.d)"
   ]
  },
  {
   "cell_type": "code",
   "execution_count": 27,
   "id": "9baf9d9f",
   "metadata": {},
   "outputs": [
    {
     "name": "stdout",
     "output_type": "stream",
     "text": [
      "str  shdk\n",
      "nope\n"
     ]
    }
   ],
   "source": [
    "def ispangram(st):\n",
    "    import string\n",
    "    a=set(string.ascii_lowercase)\n",
    "    return a<=set(st.lower())\n",
    "s=input('str  ')\n",
    "if ispangram(s):\n",
    "    print('yes')\n",
    "else:\n",
    "    print('nope')"
   ]
  },
  {
   "cell_type": "code",
   "execution_count": 33,
   "id": "fba7b636",
   "metadata": {},
   "outputs": [
    {
     "name": "stdout",
     "output_type": "stream",
     "text": [
      "{'s', 't', 'g', 'h', 'e', 'p', 'i', 'f', 'k', 'a', 'm', 'q', 'c', 'y', 'v', 'j', 'u', 'x', 'n', 'd', 'w', 'z', 'l', 'o', 'r', 'b'}\n"
     ]
    }
   ],
   "source": [
    "import string\n",
    "a=set(string.ascii_lowercase)\n",
    "print(a)"
   ]
  },
  {
   "cell_type": "code",
   "execution_count": 13,
   "id": "b384cf0e",
   "metadata": {},
   "outputs": [
    {
     "name": "stdout",
     "output_type": "stream",
     "text": [
      "2\n",
      "30\n",
      "3\n",
      "9\n",
      "0\n",
      "1\n",
      "31\n"
     ]
    }
   ],
   "source": [
    "\n",
    "def bubblesort(a1):\n",
    "    for i in range(len(a1)-1):\n",
    "        for j in range(len(a1)-i-1):\n",
    "            if a1[i]>a1[i+1]:\n",
    "                a1[i],a1[i+1]=a1[i+1],a1[i]\n",
    "a1=[2,31,30,3,9,0,1]\n",
    "bubblesort(a1)\n",
    "for i in range(len(a1)):\n",
    "    print(a1[i])\n",
    "                "
   ]
  },
  {
   "cell_type": "code",
   "execution_count": 2,
   "id": "2b7137ba",
   "metadata": {},
   "outputs": [
    {
     "name": "stdout",
     "output_type": "stream",
     "text": [
      "2021-07-22 01:38:15.630920\n"
     ]
    }
   ],
   "source": [
    "#datetime\n",
    "import datetime\n",
    "a= datetime.datetime.now()\n",
    "print(a)"
   ]
  },
  {
   "cell_type": "code",
   "execution_count": 15,
   "id": "6de8a125",
   "metadata": {},
   "outputs": [
    {
     "name": "stdout",
     "output_type": "stream",
     "text": [
      "2021\n",
      "Thursday\n"
     ]
    }
   ],
   "source": [
    "import datetime\n",
    "x=datetime.datetime.now()\n",
    "print(x.year)\n",
    "print(x.strftime('%A'))"
   ]
  },
  {
   "cell_type": "code",
   "execution_count": 12,
   "id": "6f7471b0",
   "metadata": {},
   "outputs": [
    {
     "name": "stdout",
     "output_type": "stream",
     "text": [
      "2021-07-22 00:00:00\n"
     ]
    }
   ],
   "source": [
    "#creating date object\n",
    "import datetime\n",
    "x=datetime.datetime(2021,7,22)\n",
    "print(x)\n",
    "# datetime() class also takes parameters for time and \n",
    "# timezone, but they optional"
   ]
  },
  {
   "cell_type": "code",
   "execution_count": 18,
   "id": "69f8c86b",
   "metadata": {},
   "outputs": [
    {
     "name": "stdout",
     "output_type": "stream",
     "text": [
      "07/22/21\n"
     ]
    }
   ],
   "source": [
    "import datetime\n",
    "x=datetime.datetime.now()\n",
    "print(x.strftime('%D'))"
   ]
  },
  {
   "cell_type": "code",
   "execution_count": 1,
   "id": "5233304e",
   "metadata": {},
   "outputs": [
    {
     "name": "stdout",
     "output_type": "stream",
     "text": [
      "an exception occured\n"
     ]
    }
   ],
   "source": [
    "#Exception handling  try except\n",
    "#without try block the program will crash or error\n",
    "try:\n",
    "    print(x)  # it should be throw the error\n",
    "except:        # bcz of x is not defined\n",
    "    print('an exception occured')\n"
   ]
  },
  {
   "cell_type": "code",
   "execution_count": 3,
   "id": "ddacd363",
   "metadata": {},
   "outputs": [
    {
     "name": "stdout",
     "output_type": "stream",
     "text": [
      "variable in not defined\n"
     ]
    }
   ],
   "source": [
    "#try block raise a nameerror and another for other \n",
    "try:\n",
    "    print(x)\n",
    "except NameError:\n",
    "    print('variable in not defined')\n",
    "except:\n",
    "    print('something else went wrong')"
   ]
  },
  {
   "cell_type": "code",
   "execution_count": 4,
   "id": "d0d9ce27",
   "metadata": {},
   "outputs": [
    {
     "name": "stdout",
     "output_type": "stream",
     "text": [
      "hello\n",
      "nothing went wrong\n"
     ]
    }
   ],
   "source": [
    "'''else keyword to define a block of code to be executed if no errors were raised''' \n",
    "try:\n",
    "    print('hello')\n",
    "except:\n",
    "    print('something went wrong')\n",
    "else:\n",
    "    print('nothing went wrong')"
   ]
  },
  {
   "cell_type": "code",
   "execution_count": null,
   "id": "49b5db32",
   "metadata": {},
   "outputs": [],
   "source": [
    "#finally block\n",
    "try:\n",
    "    print('hello abhi')\n",
    "except:"
   ]
  },
  {
   "cell_type": "code",
   "execution_count": 5,
   "id": "fe7a6dcc",
   "metadata": {},
   "outputs": [
    {
     "name": "stdout",
     "output_type": "stream",
     "text": [
      "2\n",
      "3\n",
      "4\n",
      "5\n",
      "6\n",
      "7\n",
      "87\n",
      "8\n",
      "enter slit postion 4\n",
      "array1\n",
      "\n",
      "2\n",
      "3\n",
      "array2\n",
      "\n",
      "5\n",
      "6\n",
      "7\n",
      "87\n",
      "8\n"
     ]
    }
   ],
   "source": [
    "import array as arr\n",
    "l1=[]\n",
    "l2=[]\n",
    "a=arr.array('i',[2,3,4,5,6,7,87,8])\n",
    "for i in range(0, len(a)):\n",
    "    print(a[i])\n",
    "b=int(input('enter slit postion '))\n",
    "split_index=a.index(b)\n",
    "\n",
    "for i in range(0, split_index):\n",
    "    l1.append(a[i])\n",
    "\n",
    "for i in range(split_index+1,len(a)):\n",
    "    l2.append(a[i])\n",
    "a1=arr.array('i',l1)\n",
    "a2=arr.array('i',l2)\n",
    "\n",
    "print('array1\\n')\n",
    "for i in range(0,len(l1)):\n",
    "    print(a1[i])\n",
    "print('array2\\n')\n",
    "for i in range(0,len(l2)):\n",
    "    print(a2[i])"
   ]
  },
  {
   "cell_type": "code",
   "execution_count": 1,
   "id": "4f7e8849",
   "metadata": {},
   "outputs": [
    {
     "name": "stdout",
     "output_type": "stream",
     "text": [
      "abhi 20\n"
     ]
    }
   ],
   "source": [
    "'''Create a function that can accept two arguments name and age and print its value'''\n",
    "def fun(name, age):\n",
    "    print(name, age)\n",
    "fun('abhi', 20)"
   ]
  },
  {
   "cell_type": "code",
   "execution_count": 12,
   "id": "ad1e7a3e",
   "metadata": {},
   "outputs": [
    {
     "name": "stdout",
     "output_type": "stream",
     "text": [
      "2 (4, 6, 9)\n",
      "19\n",
      "3 (234, 10)\n",
      "244\n"
     ]
    }
   ],
   "source": [
    "'''Write a function func1() such that it can accept a variable length of  argument and print all arguments value'''\n",
    "def fun1(a,*agr):  \n",
    "    sum1=0   # gives tupple\n",
    "    print(a,agr)\n",
    "    for i in agr:\n",
    "        sum1=sum1+i\n",
    "    print(sum1)\n",
    "fun1(2,4,6,9)\n",
    "fun1(3,234,10)\n",
    "    "
   ]
  },
  {
   "cell_type": "code",
   "execution_count": 15,
   "id": "f1c569c8",
   "metadata": {},
   "outputs": [
    {
     "name": "stdout",
     "output_type": "stream",
     "text": [
      "(68, 22)\n"
     ]
    }
   ],
   "source": [
    "def calculation(a,b):               #output in single call\n",
    "    return a+b ,a-b\n",
    "    \n",
    "r=calculation(45,23)\n",
    "print(r)"
   ]
  },
  {
   "cell_type": "code",
   "execution_count": 29,
   "id": "17e6e47a",
   "metadata": {},
   "outputs": [
    {
     "name": "stdout",
     "output_type": "stream",
     "text": [
      "('soni', 4554)\n"
     ]
    }
   ],
   "source": [
    "def showEmployee(Ename, salary=9000):\n",
    "    return Ename, salary     #print(Ename, salary)\n",
    "s=showEmployee('soni',4554)  #showEmployee('soni',4554)\n",
    "print(s)                     # not need"
   ]
  },
  {
   "cell_type": "code",
   "execution_count": 32,
   "id": "5da0731c",
   "metadata": {},
   "outputs": [
    {
     "name": "stdout",
     "output_type": "stream",
     "text": [
      "22\n"
     ]
    }
   ],
   "source": [
    "def fun(a, b):\n",
    "    def addition(a,b):\n",
    "        return a+b\n",
    "    a=addition(a,b)\n",
    "    return a+5\n",
    "r=fun(12, 5)\n",
    "print(r)\n",
    "    "
   ]
  },
  {
   "cell_type": "code",
   "execution_count": 35,
   "id": "33bd33fb",
   "metadata": {},
   "outputs": [
    {
     "name": "stdout",
     "output_type": "stream",
     "text": [
      "soni 20\n",
      "soni 20\n"
     ]
    }
   ],
   "source": [
    "#function call through the new name\n",
    "def dis(name, age):\n",
    "    print(name, age)\n",
    "dis('soni',20)\n",
    "show=dis                   # call by new name\n",
    "show('soni',20)"
   ]
  },
  {
   "cell_type": "code",
   "execution_count": 42,
   "id": "826a0086",
   "metadata": {},
   "outputs": [
    {
     "name": "stdout",
     "output_type": "stream",
     "text": [
      "231\n"
     ]
    }
   ],
   "source": [
    "'''\n",
    "def maximum(a,b,c):\n",
    "    return max(a,b,c)\n",
    "s=maximum(23,34,1)\n",
    "print(s)'''\n",
    "def maximum2(a,b):\n",
    "    if a>b:\n",
    "        return a\n",
    "    return b\n",
    "def max3(a,b,c):\n",
    "    return maximum2(maximum2(a,b),c)\n",
    "r=max3(-2,231,42)\n",
    "print(r)"
   ]
  },
  {
   "cell_type": "code",
   "execution_count": 5,
   "id": "47f6e07f",
   "metadata": {},
   "outputs": [
    {
     "name": "stdout",
     "output_type": "stream",
     "text": [
      "92\n"
     ]
    }
   ],
   "source": [
    "# sum of list\n",
    "def listsum(n):\n",
    "    total=0\n",
    "    for i in n:\n",
    "        total = total+i\n",
    "    return total\n",
    "print(listsum((34,45,3,9,1)))"
   ]
  },
  {
   "cell_type": "code",
   "execution_count": 13,
   "id": "618f5e58",
   "metadata": {},
   "outputs": [
    {
     "name": "stdout",
     "output_type": "stream",
     "text": [
      "multiple of list 1548\n"
     ]
    }
   ],
   "source": [
    "# multiply all the numbers in a list\n",
    "def multilist(num):\n",
    "    t=1\n",
    "    for i in num:\n",
    "        t=t*i\n",
    "    return t\n",
    "print('multiple of list', multilist((2,3,43,6)))"
   ]
  },
  {
   "cell_type": "code",
   "execution_count": null,
   "id": "55c76df0",
   "metadata": {},
   "outputs": [],
   "source": [
    "#reverse the string\n",
    "def reverse(string):\n",
    "    st=' '\n",
    "    index=len(st)\n",
    "    while(index>0):\n",
    "        st+=st[index-1]\n",
    "    return st\n",
    "print(reverse('1234abcd'))"
   ]
  },
  {
   "cell_type": "code",
   "execution_count": 11,
   "id": "2d93ff61",
   "metadata": {},
   "outputs": [
    {
     "name": "stdout",
     "output_type": "stream",
     "text": [
      "enter numbers of disc: 3\n",
      "move the disc 1 from a to c\n",
      "move disc 2 from a to c\n",
      "move the disc 1 from b to a\n",
      "move disc 3 from a to c\n",
      "move the disc 1 from b to a\n",
      "move disc 2 from b to a\n",
      "move the disc 1 from c to b\n"
     ]
    }
   ],
   "source": [
    "# TOWER OF HANOI\n",
    "def towers(n, a, b, c):\n",
    "    if n==1:\n",
    "        print('move the disc %i from %s to %s'%(n,a,c))\n",
    "        \n",
    "    else:\n",
    "        towers(n-1, a, b, c)    #c as intermediate\n",
    "        print('move disc %i from %s to %s'%(n,a,c))\n",
    "        towers(n-1,b,c,a)        # a as intermediate\n",
    "towers(int(input('enter numbers of disc: ')),'a','b','c')           # call the fun towers"
   ]
  },
  {
   "cell_type": "code",
   "execution_count": 7,
   "id": "6bb10f33",
   "metadata": {},
   "outputs": [
    {
     "name": "stdout",
     "output_type": "stream",
     "text": [
      "Num of inputs you want 3\n",
      "fsdf\n",
      "gr\n",
      "av\n",
      "{'av', 'gr', 'fsdf'}\n"
     ]
    }
   ],
   "source": [
    "s=set();\n",
    "n=int(input('Num of inputs you want '))\n",
    "for i in range(n):\n",
    "    a=input()\n",
    "    s.add(a)\n",
    "print(s)"
   ]
  },
  {
   "cell_type": "code",
   "execution_count": 9,
   "id": "a08b7e5c",
   "metadata": {},
   "outputs": [
    {
     "data": {
      "text/plain": [
       "'Task 2:Demonstrate the use of the following functions of Set Data Structure:\\ni) Operations on Set: difference(), difference_update(), intersection(), intersection_update(), symmetric_difference(), symmetric_difference_update(), isdisjoint(), issuperset(), issubset()\\nii) Manipulating Set: discard(), add(), clear(), copy(), pop(), remove()'"
      ]
     },
     "execution_count": 9,
     "metadata": {},
     "output_type": "execute_result"
    }
   ],
   "source": [
    "'''Task 2:Demonstrate the use of the following functions of Set Data Structure:\n",
    "i) Operations on Set: difference(), difference_update(), intersection(), intersection_update(), symmetric_difference(), symmetric_difference_update(), isdisjoint(), issuperset(), issubset()\n",
    "ii) Manipulating Set: discard(), add(), clear(), copy(), pop(), remove()'''"
   ]
  },
  {
   "cell_type": "code",
   "execution_count": 71,
   "id": "5b902b8d",
   "metadata": {},
   "outputs": [
    {
     "name": "stdout",
     "output_type": "stream",
     "text": [
      "difference of a and b  {'n', 'a'}\n",
      "difference_update a and b  {'h'}\n",
      "intersection of a and b is  {'f', 'm'}\n"
     ]
    }
   ],
   "source": [
    "#difference\n",
    "a={'a', 'f', 'n', 'm'}\n",
    "b={'f', 'm', 'h'}\n",
    "z = a.difference(b)\n",
    "print('difference of a and b ',z)\n",
    "\n",
    "#difference update\n",
    "a={'a', 'f', 'n', 'm'}\n",
    "b={'h','n'}\n",
    "b.difference_update(a)\n",
    "print('difference_update a and b ',b)\n",
    "\n",
    "#intesection\n",
    "a={'a', 'f', 'n', 'm'}\n",
    "b={'f', 'm', 'h'}\n",
    "z = a.intersection(b)\n",
    "print('intersection of a and b is ',z)"
   ]
  },
  {
   "cell_type": "code",
   "execution_count": null,
   "id": "43801919",
   "metadata": {},
   "outputs": [],
   "source": []
  },
  {
   "cell_type": "code",
   "execution_count": null,
   "id": "6be2494f",
   "metadata": {},
   "outputs": [],
   "source": []
  },
  {
   "cell_type": "code",
   "execution_count": 27,
   "id": "5d781481",
   "metadata": {},
   "outputs": [
    {
     "name": "stdout",
     "output_type": "stream",
     "text": [
      "{'f', 'm'}\n"
     ]
    }
   ],
   "source": [
    "#intersection_update\n",
    "a={'a', 'f', 'n', 'm'}\n",
    "b={'f', 'm', 'h'}\n",
    "a.intersection_update(b)\n",
    "print(a)"
   ]
  },
  {
   "cell_type": "code",
   "execution_count": 29,
   "id": "97d900b9",
   "metadata": {},
   "outputs": [
    {
     "name": "stdout",
     "output_type": "stream",
     "text": [
      "{'h', 'n', 'a'}\n"
     ]
    }
   ],
   "source": [
    "#symmetric_difference()\n",
    "a={'a', 'f', 'n', 'm'}\n",
    "b={'f', 'm', 'h'}\n",
    "z=a.symmetric_difference(b)\n",
    "print(z)"
   ]
  },
  {
   "cell_type": "code",
   "execution_count": 31,
   "id": "9b83ec1a",
   "metadata": {},
   "outputs": [
    {
     "name": "stdout",
     "output_type": "stream",
     "text": [
      "{'h', 'n', 'a'}\n"
     ]
    }
   ],
   "source": [
    "#symmetric_difference_update()\n",
    "a={'a', 'f', 'n', 'm'}\n",
    "b={'f', 'm', 'h'}\n",
    "a.symmetric_difference_update(b)\n",
    "print(a)"
   ]
  },
  {
   "cell_type": "code",
   "execution_count": 32,
   "id": "af66d2e3",
   "metadata": {},
   "outputs": [
    {
     "name": "stdout",
     "output_type": "stream",
     "text": [
      "False\n"
     ]
    }
   ],
   "source": [
    "#isdisjoint()\n",
    "a={'a', 'f', 'n', 'm'}\n",
    "b={'f', 'm', 'h'}\n",
    "z=a.isdisjoint(b)\n",
    "print(z)"
   ]
  },
  {
   "cell_type": "code",
   "execution_count": 34,
   "id": "029ec80c",
   "metadata": {},
   "outputs": [
    {
     "name": "stdout",
     "output_type": "stream",
     "text": [
      "False\n"
     ]
    }
   ],
   "source": [
    "#issuperset()\n",
    "a={'a', 'f', 'n', 'm'}\n",
    "b={'f', 'm', 'h'}\n",
    "z=a.issuperset(b)\n",
    "print(z)"
   ]
  },
  {
   "cell_type": "code",
   "execution_count": 58,
   "id": "b6cf9a5b",
   "metadata": {},
   "outputs": [
    {
     "name": "stdout",
     "output_type": "stream",
     "text": [
      "False\n"
     ]
    }
   ],
   "source": [
    "#issubset()\n",
    "a={'a', 'f', 'n', 'm', 'h'}\n",
    "b={'f', 'm', 'h'}\n",
    "print(a.issubset(b))"
   ]
  },
  {
   "cell_type": "code",
   "execution_count": 59,
   "id": "aaa6ff02",
   "metadata": {},
   "outputs": [
    {
     "name": "stdout",
     "output_type": "stream",
     "text": [
      "{'h', 'n', 'm', 'a'}\n"
     ]
    }
   ],
   "source": [
    "a.discard('f')\n",
    "print(a)"
   ]
  },
  {
   "cell_type": "code",
   "execution_count": 60,
   "id": "07389c40",
   "metadata": {},
   "outputs": [
    {
     "name": "stdout",
     "output_type": "stream",
     "text": [
      "{'h', 'n', 'abhi', 'm', 'a'}\n"
     ]
    }
   ],
   "source": [
    "a.add('abhi')\n",
    "print(a)"
   ]
  },
  {
   "cell_type": "code",
   "execution_count": 61,
   "id": "e67b1b8d",
   "metadata": {},
   "outputs": [
    {
     "name": "stdout",
     "output_type": "stream",
     "text": [
      "{'h', 'n', 'abhi', 'm', 'a'}\n"
     ]
    }
   ],
   "source": [
    "c=a.copy()\n",
    "print(c)"
   ]
  },
  {
   "cell_type": "code",
   "execution_count": 62,
   "id": "dfaf90e1",
   "metadata": {},
   "outputs": [
    {
     "data": {
      "text/plain": [
       "'h'"
      ]
     },
     "execution_count": 62,
     "metadata": {},
     "output_type": "execute_result"
    }
   ],
   "source": [
    "c.pop()"
   ]
  },
  {
   "cell_type": "code",
   "execution_count": 63,
   "id": "6aedaf8a",
   "metadata": {},
   "outputs": [
    {
     "name": "stdout",
     "output_type": "stream",
     "text": [
      "{'n', 'abhi', 'm', 'a'}\n"
     ]
    }
   ],
   "source": [
    "print(c)"
   ]
  },
  {
   "cell_type": "code",
   "execution_count": 64,
   "id": "43da2f49",
   "metadata": {},
   "outputs": [
    {
     "data": {
      "text/plain": [
       "'n'"
      ]
     },
     "execution_count": 64,
     "metadata": {},
     "output_type": "execute_result"
    }
   ],
   "source": [
    "c.pop()"
   ]
  },
  {
   "cell_type": "code",
   "execution_count": 65,
   "id": "1dbc3cb3",
   "metadata": {},
   "outputs": [],
   "source": [
    "c.remove('m')"
   ]
  },
  {
   "cell_type": "code",
   "execution_count": 66,
   "id": "5a7d70ac",
   "metadata": {},
   "outputs": [],
   "source": [
    "c.clear()"
   ]
  },
  {
   "cell_type": "code",
   "execution_count": 67,
   "id": "7928cbcd",
   "metadata": {},
   "outputs": [
    {
     "name": "stdout",
     "output_type": "stream",
     "text": [
      "set()\n"
     ]
    }
   ],
   "source": [
    "print(c)"
   ]
  },
  {
   "cell_type": "code",
   "execution_count": 18,
   "id": "dd76bb5a",
   "metadata": {},
   "outputs": [
    {
     "name": "stdout",
     "output_type": "stream",
     "text": [
      "0\n"
     ]
    }
   ],
   "source": [
    "ip = \"5555..111\"\n",
    "l=ip.split('.')\n",
    "n=len(l)\n",
    "if n!=4:\n",
    "    print('0')\n",
    "elif n==4:\n",
    "    for i in range(0,4):\n",
    "        if l[i]=='':\n",
    "            print('0')\n",
    "else:\n",
    "    for i in range(len(l)):\n",
    "        if int(l[i])<=255 and int(l[i])>=0:\n",
    "            print('yes')\n",
    "            break\n",
    "        else:\n",
    "            print('no')\n",
    "            break"
   ]
  },
  {
   "cell_type": "code",
   "execution_count": null,
   "id": "51bdc048",
   "metadata": {},
   "outputs": [],
   "source": []
  }
 ],
 "metadata": {
  "kernelspec": {
   "display_name": "Python 3 (ipykernel)",
   "language": "python",
   "name": "python3"
  },
  "language_info": {
   "codemirror_mode": {
    "name": "ipython",
    "version": 3
   },
   "file_extension": ".py",
   "mimetype": "text/x-python",
   "name": "python",
   "nbconvert_exporter": "python",
   "pygments_lexer": "ipython3",
   "version": "3.8.12"
  }
 },
 "nbformat": 4,
 "nbformat_minor": 5
}
